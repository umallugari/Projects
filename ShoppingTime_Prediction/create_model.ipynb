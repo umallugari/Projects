{
 "cells": [
  {
   "cell_type": "code",
   "execution_count": 1,
   "metadata": {},
   "outputs": [],
   "source": [
    "# Python-3\n",
    "# spark-submit --num-executors 5 --driver-memory 6g\n",
    "\n",
    "from   pyspark     import SparkContext\n",
    "from   pyspark.sql import SQLContext\n",
    "from   time        import mktime, strptime\n",
    "import pyspark.sql.functions as fn\n",
    "from   pyspark.sql.types     import IntegerType\n",
    "from   pyspark.ml.feature    import VectorAssembler\n",
    "from   pyspark.ml.regression import LinearRegression\n",
    "from   pyspark.ml.evaluation import RegressionEvaluator\n",
    "from   pyspark.ml.regression import DecisionTreeRegressor\n",
    "from   pyspark.ml.regression import GBTRegressor\n",
    "from   pyspark.ml.regression import RandomForestRegressor\n",
    "from pyspark.ml.feature import StringIndexer\n",
    "    \n",
    "import json\n",
    "import csv"
   ]
  },
  {
   "cell_type": "code",
   "execution_count": 2,
   "metadata": {},
   "outputs": [],
   "source": [
    "JSON_DATA_TO_PREDICT = \"./data_to_predict.json\"\n",
    "CSV_TRAINING_DATA    = \"./historical_data.csv\"\n",
    "CSV_TMP_FILE         = \"./tmp.csv\""
   ]
  },
  {
   "cell_type": "code",
   "execution_count": 3,
   "metadata": {},
   "outputs": [],
   "source": [
    "training_df = sqlContext.read.csv(CSV_TRAINING_DATA,\n",
    "                                    header=True,\n",
    "                                    inferSchema=True)"
   ]
  },
  {
   "cell_type": "code",
   "execution_count": 4,
   "metadata": {},
   "outputs": [
    {
     "data": {
      "text/plain": [
       "Row(market_id='1', created_at='2/6/15 22:24', actual_delivery_time='2/6/15 23:27', store_id='df263d996281d984952c07998dc54358', store_primary_category='american', order_protocol='1', total_items=4, subtotal=3441, num_distinct_items=4, min_item_price=557, max_item_price=1239, total_onshift_runners='33', total_busy_runners='14', total_outstanding_orders='21', estimated_order_place_duration=446, estimated_store_to_consumer_driving_duration='861')"
      ]
     },
     "execution_count": 4,
     "metadata": {},
     "output_type": "execute_result"
    }
   ],
   "source": [
    "training_df.head()"
   ]
  },
  {
   "cell_type": "code",
   "execution_count": 5,
   "metadata": {},
   "outputs": [
    {
     "name": "stdout",
     "output_type": "stream",
     "text": [
      "root\n",
      " |-- market_id: string (nullable = true)\n",
      " |-- created_at: string (nullable = true)\n",
      " |-- actual_delivery_time: string (nullable = true)\n",
      " |-- store_id: string (nullable = true)\n",
      " |-- store_primary_category: string (nullable = true)\n",
      " |-- order_protocol: string (nullable = true)\n",
      " |-- total_items: integer (nullable = true)\n",
      " |-- subtotal: integer (nullable = true)\n",
      " |-- num_distinct_items: integer (nullable = true)\n",
      " |-- min_item_price: integer (nullable = true)\n",
      " |-- max_item_price: integer (nullable = true)\n",
      " |-- total_onshift_runners: string (nullable = true)\n",
      " |-- total_busy_runners: string (nullable = true)\n",
      " |-- total_outstanding_orders: string (nullable = true)\n",
      " |-- estimated_order_place_duration: integer (nullable = true)\n",
      " |-- estimated_store_to_consumer_driving_duration: string (nullable = true)\n",
      "\n"
     ]
    }
   ],
   "source": [
    "training_df.printSchema()"
   ]
  },
  {
   "cell_type": "code",
   "execution_count": 10,
   "metadata": {},
   "outputs": [
    {
     "data": {
      "text/plain": [
       "197428"
      ]
     },
     "execution_count": 10,
     "metadata": {},
     "output_type": "execute_result"
    }
   ],
   "source": [
    "training_df.count()"
   ]
  },
  {
   "cell_type": "code",
   "execution_count": 6,
   "metadata": {},
   "outputs": [
    {
     "data": {
      "text/plain": [
       "7"
      ]
     },
     "execution_count": 6,
     "metadata": {},
     "output_type": "execute_result"
    }
   ],
   "source": [
    "training_df.select('market_id').distinct().count()"
   ]
  },
  {
   "cell_type": "code",
   "execution_count": 7,
   "metadata": {},
   "outputs": [
    {
     "data": {
      "text/plain": [
       "6743"
      ]
     },
     "execution_count": 7,
     "metadata": {},
     "output_type": "execute_result"
    }
   ],
   "source": [
    "training_df.select('store_id').distinct().count()"
   ]
  },
  {
   "cell_type": "code",
   "execution_count": 8,
   "metadata": {},
   "outputs": [
    {
     "data": {
      "text/plain": [
       "12717"
      ]
     },
     "execution_count": 8,
     "metadata": {},
     "output_type": "execute_result"
    }
   ],
   "source": [
    "training_df.select('market_id', 'store_id').distinct().count()"
   ]
  },
  {
   "cell_type": "code",
   "execution_count": 82,
   "metadata": {
    "scrolled": true
   },
   "outputs": [
    {
     "name": "stdout",
     "output_type": "stream",
     "text": [
      "+--------------------------------+----------------------+\n",
      "|store_id                        |store_primary_category|\n",
      "+--------------------------------+----------------------+\n",
      "|f0ade77b43923b38237db569b016ba25|NA                    |\n",
      "|f0ade77b43923b38237db569b016ba25|NA                    |\n",
      "|f0ade77b43923b38237db569b016ba25|NA                    |\n",
      "|f0ade77b43923b38237db569b016ba25|NA                    |\n",
      "|f0ade77b43923b38237db569b016ba25|NA                    |\n",
      "|f0ade77b43923b38237db569b016ba25|NA                    |\n",
      "|f0ade77b43923b38237db569b016ba25|indian                |\n",
      "|f0ade77b43923b38237db569b016ba25|NA                    |\n",
      "|f0ade77b43923b38237db569b016ba25|NA                    |\n",
      "|f0ade77b43923b38237db569b016ba25|NA                    |\n",
      "|f0ade77b43923b38237db569b016ba25|NA                    |\n",
      "|f0ade77b43923b38237db569b016ba25|NA                    |\n",
      "+--------------------------------+----------------------+\n",
      "\n"
     ]
    },
    {
     "data": {
      "text/plain": [
       "\"\\n\\ntraining_df.select('store_id', 'store_primary_category')                   .where((training_df.store_id == training_df.store_id) & \\n                         (training_df.store_primary_category != training_df.store_primary_category)).count()\\n\""
      ]
     },
     "execution_count": 82,
     "metadata": {},
     "output_type": "execute_result"
    }
   ],
   "source": [
    "\n",
    "training_df.select('store_id', 'store_primary_category')\\\n",
    "                    .where((training_df.store_id == \"f0ade77b43923b38237db569b016ba25\") &\n",
    "                          (training_df.store_primary_category != \"mexican\")).show(20, False)\n",
    "'''\n",
    "\n",
    "training_df.select('store_id', 'store_primary_category')\\\n",
    "                   .where((training_df.store_id == training_df.store_id) & \n",
    "                         (training_df.store_primary_category != training_df.store_primary_category)).count()\n",
    "'''\n",
    "\n"
   ]
  },
  {
   "cell_type": "code",
   "execution_count": 9,
   "metadata": {},
   "outputs": [
    {
     "data": {
      "text/html": [
       "<div>\n",
       "<style scoped>\n",
       "    .dataframe tbody tr th:only-of-type {\n",
       "        vertical-align: middle;\n",
       "    }\n",
       "\n",
       "    .dataframe tbody tr th {\n",
       "        vertical-align: top;\n",
       "    }\n",
       "\n",
       "    .dataframe thead th {\n",
       "        text-align: right;\n",
       "    }\n",
       "</style>\n",
       "<table border=\"1\" class=\"dataframe\">\n",
       "  <thead>\n",
       "    <tr style=\"text-align: right;\">\n",
       "      <th></th>\n",
       "      <th>0</th>\n",
       "      <th>1</th>\n",
       "      <th>2</th>\n",
       "      <th>3</th>\n",
       "      <th>4</th>\n",
       "    </tr>\n",
       "  </thead>\n",
       "  <tbody>\n",
       "    <tr>\n",
       "      <th>summary</th>\n",
       "      <td>count</td>\n",
       "      <td>mean</td>\n",
       "      <td>stddev</td>\n",
       "      <td>min</td>\n",
       "      <td>max</td>\n",
       "    </tr>\n",
       "    <tr>\n",
       "      <th>market_id</th>\n",
       "      <td>197428</td>\n",
       "      <td>2.978706074597462</td>\n",
       "      <td>1.5248667244506329</td>\n",
       "      <td>1</td>\n",
       "      <td>NA</td>\n",
       "    </tr>\n",
       "    <tr>\n",
       "      <th>created_at</th>\n",
       "      <td>197428</td>\n",
       "      <td>None</td>\n",
       "      <td>None</td>\n",
       "      <td>1/21/15 15:22</td>\n",
       "      <td>2/9/15 6:00</td>\n",
       "    </tr>\n",
       "    <tr>\n",
       "      <th>actual_delivery_time</th>\n",
       "      <td>197428</td>\n",
       "      <td>None</td>\n",
       "      <td>None</td>\n",
       "      <td>1/21/15 15:58</td>\n",
       "      <td>NA</td>\n",
       "    </tr>\n",
       "    <tr>\n",
       "      <th>store_id</th>\n",
       "      <td>197428</td>\n",
       "      <td>None</td>\n",
       "      <td>None</td>\n",
       "      <td>0004d0b59e19461ff126e3a08a814c33</td>\n",
       "      <td>ffedf5be3a86e2ee281d54cdc97bc1cf</td>\n",
       "    </tr>\n",
       "    <tr>\n",
       "      <th>store_primary_category</th>\n",
       "      <td>197428</td>\n",
       "      <td>None</td>\n",
       "      <td>None</td>\n",
       "      <td>NA</td>\n",
       "      <td>vietnamese</td>\n",
       "    </tr>\n",
       "    <tr>\n",
       "      <th>order_protocol</th>\n",
       "      <td>197428</td>\n",
       "      <td>2.8823517433425137</td>\n",
       "      <td>1.5037712034995798</td>\n",
       "      <td>1</td>\n",
       "      <td>NA</td>\n",
       "    </tr>\n",
       "    <tr>\n",
       "      <th>total_items</th>\n",
       "      <td>197428</td>\n",
       "      <td>3.196390582896043</td>\n",
       "      <td>2.666546063599876</td>\n",
       "      <td>1</td>\n",
       "      <td>411</td>\n",
       "    </tr>\n",
       "    <tr>\n",
       "      <th>subtotal</th>\n",
       "      <td>197428</td>\n",
       "      <td>2682.331401827502</td>\n",
       "      <td>1823.0936878547845</td>\n",
       "      <td>0</td>\n",
       "      <td>27100</td>\n",
       "    </tr>\n",
       "    <tr>\n",
       "      <th>num_distinct_items</th>\n",
       "      <td>197428</td>\n",
       "      <td>2.6707913771096297</td>\n",
       "      <td>1.6302552413381561</td>\n",
       "      <td>1</td>\n",
       "      <td>20</td>\n",
       "    </tr>\n",
       "    <tr>\n",
       "      <th>min_item_price</th>\n",
       "      <td>197428</td>\n",
       "      <td>686.2184695180015</td>\n",
       "      <td>522.0386476914736</td>\n",
       "      <td>-86</td>\n",
       "      <td>14700</td>\n",
       "    </tr>\n",
       "    <tr>\n",
       "      <th>max_item_price</th>\n",
       "      <td>197428</td>\n",
       "      <td>1159.5886297789573</td>\n",
       "      <td>558.4113766592681</td>\n",
       "      <td>0</td>\n",
       "      <td>14700</td>\n",
       "    </tr>\n",
       "    <tr>\n",
       "      <th>total_onshift_runners</th>\n",
       "      <td>197428</td>\n",
       "      <td>44.808093130057514</td>\n",
       "      <td>34.52678347621349</td>\n",
       "      <td>-1</td>\n",
       "      <td>NA</td>\n",
       "    </tr>\n",
       "    <tr>\n",
       "      <th>total_busy_runners</th>\n",
       "      <td>197428</td>\n",
       "      <td>41.739746972389966</td>\n",
       "      <td>32.145732718031816</td>\n",
       "      <td>-1</td>\n",
       "      <td>NA</td>\n",
       "    </tr>\n",
       "    <tr>\n",
       "      <th>total_outstanding_orders</th>\n",
       "      <td>197428</td>\n",
       "      <td>58.0500645816544</td>\n",
       "      <td>52.66183027716449</td>\n",
       "      <td>-1</td>\n",
       "      <td>NA</td>\n",
       "    </tr>\n",
       "    <tr>\n",
       "      <th>estimated_order_place_duration</th>\n",
       "      <td>197428</td>\n",
       "      <td>308.5601789006625</td>\n",
       "      <td>90.1396534072246</td>\n",
       "      <td>0</td>\n",
       "      <td>2715</td>\n",
       "    </tr>\n",
       "    <tr>\n",
       "      <th>estimated_store_to_consumer_driving_duration</th>\n",
       "      <td>197428</td>\n",
       "      <td>545.3589349016262</td>\n",
       "      <td>219.35290205585562</td>\n",
       "      <td>0</td>\n",
       "      <td>NA</td>\n",
       "    </tr>\n",
       "  </tbody>\n",
       "</table>\n",
       "</div>"
      ],
      "text/plain": [
       "                                                   0                   1  \\\n",
       "summary                                        count                mean   \n",
       "market_id                                     197428   2.978706074597462   \n",
       "created_at                                    197428                None   \n",
       "actual_delivery_time                          197428                None   \n",
       "store_id                                      197428                None   \n",
       "store_primary_category                        197428                None   \n",
       "order_protocol                                197428  2.8823517433425137   \n",
       "total_items                                   197428   3.196390582896043   \n",
       "subtotal                                      197428   2682.331401827502   \n",
       "num_distinct_items                            197428  2.6707913771096297   \n",
       "min_item_price                                197428   686.2184695180015   \n",
       "max_item_price                                197428  1159.5886297789573   \n",
       "total_onshift_runners                         197428  44.808093130057514   \n",
       "total_busy_runners                            197428  41.739746972389966   \n",
       "total_outstanding_orders                      197428    58.0500645816544   \n",
       "estimated_order_place_duration                197428   308.5601789006625   \n",
       "estimated_store_to_consumer_driving_duration  197428   545.3589349016262   \n",
       "\n",
       "                                                               2  \\\n",
       "summary                                                   stddev   \n",
       "market_id                                     1.5248667244506329   \n",
       "created_at                                                  None   \n",
       "actual_delivery_time                                        None   \n",
       "store_id                                                    None   \n",
       "store_primary_category                                      None   \n",
       "order_protocol                                1.5037712034995798   \n",
       "total_items                                    2.666546063599876   \n",
       "subtotal                                      1823.0936878547845   \n",
       "num_distinct_items                            1.6302552413381561   \n",
       "min_item_price                                 522.0386476914736   \n",
       "max_item_price                                 558.4113766592681   \n",
       "total_onshift_runners                          34.52678347621349   \n",
       "total_busy_runners                            32.145732718031816   \n",
       "total_outstanding_orders                       52.66183027716449   \n",
       "estimated_order_place_duration                  90.1396534072246   \n",
       "estimated_store_to_consumer_driving_duration  219.35290205585562   \n",
       "\n",
       "                                                                             3  \\\n",
       "summary                                                                    min   \n",
       "market_id                                                                    1   \n",
       "created_at                                                       1/21/15 15:22   \n",
       "actual_delivery_time                                             1/21/15 15:58   \n",
       "store_id                                      0004d0b59e19461ff126e3a08a814c33   \n",
       "store_primary_category                                                      NA   \n",
       "order_protocol                                                               1   \n",
       "total_items                                                                  1   \n",
       "subtotal                                                                     0   \n",
       "num_distinct_items                                                           1   \n",
       "min_item_price                                                             -86   \n",
       "max_item_price                                                               0   \n",
       "total_onshift_runners                                                       -1   \n",
       "total_busy_runners                                                          -1   \n",
       "total_outstanding_orders                                                    -1   \n",
       "estimated_order_place_duration                                               0   \n",
       "estimated_store_to_consumer_driving_duration                                 0   \n",
       "\n",
       "                                                                             4  \n",
       "summary                                                                    max  \n",
       "market_id                                                                   NA  \n",
       "created_at                                                         2/9/15 6:00  \n",
       "actual_delivery_time                                                        NA  \n",
       "store_id                                      ffedf5be3a86e2ee281d54cdc97bc1cf  \n",
       "store_primary_category                                              vietnamese  \n",
       "order_protocol                                                              NA  \n",
       "total_items                                                                411  \n",
       "subtotal                                                                 27100  \n",
       "num_distinct_items                                                          20  \n",
       "min_item_price                                                           14700  \n",
       "max_item_price                                                           14700  \n",
       "total_onshift_runners                                                       NA  \n",
       "total_busy_runners                                                          NA  \n",
       "total_outstanding_orders                                                    NA  \n",
       "estimated_order_place_duration                                            2715  \n",
       "estimated_store_to_consumer_driving_duration                                NA  "
      ]
     },
     "execution_count": 9,
     "metadata": {},
     "output_type": "execute_result"
    }
   ],
   "source": [
    "training_df.describe().toPandas().transpose()"
   ]
  },
  {
   "cell_type": "code",
   "execution_count": 83,
   "metadata": {},
   "outputs": [],
   "source": [
    "# Drop rows with NA columns\n",
    "training_df_1 = training_df.dropna()"
   ]
  },
  {
   "cell_type": "code",
   "execution_count": 84,
   "metadata": {},
   "outputs": [],
   "source": [
    "# Drop rows with subtotal=0\n",
    "training_df_2 = training_df_1[(training_df_1.subtotal>0)]"
   ]
  },
  {
   "cell_type": "code",
   "execution_count": 85,
   "metadata": {},
   "outputs": [],
   "source": [
    "# Drop rows where min_item_price is -ve\n",
    "training_df_2 = training_df_2[(training_df_2.min_item_price>0)]"
   ]
  },
  {
   "cell_type": "code",
   "execution_count": 86,
   "metadata": {},
   "outputs": [],
   "source": [
    "# Drop rows where max_item_price is 0, assuming spoons and forks are not part of the order\n",
    "training_df_2 = training_df_2[(training_df_2.max_item_price>0)]"
   ]
  },
  {
   "cell_type": "code",
   "execution_count": 87,
   "metadata": {},
   "outputs": [],
   "source": [
    "# Drop rows where total_onshift_runners is -ve\n",
    "training_df_2 = training_df_2[(training_df_2.total_onshift_runners>0)]"
   ]
  },
  {
   "cell_type": "code",
   "execution_count": 88,
   "metadata": {},
   "outputs": [],
   "source": [
    "# Drop rows where total_busy_runners is -ve\n",
    "training_df_2 = training_df_2[(training_df_2.total_busy_runners>0)]"
   ]
  },
  {
   "cell_type": "code",
   "execution_count": 89,
   "metadata": {},
   "outputs": [],
   "source": [
    "# Drop rows where total_outstanding_orders is -ve\n",
    "training_df_2 = training_df_2[(training_df_2.total_outstanding_orders>0)]"
   ]
  },
  {
   "cell_type": "code",
   "execution_count": 90,
   "metadata": {},
   "outputs": [],
   "source": [
    "# Drop rows where estimated_order_place_duration is 0 - is not practical\n",
    "training_df_2 = training_df_2[(training_df_2.estimated_order_place_duration>0)]"
   ]
  },
  {
   "cell_type": "code",
   "execution_count": 91,
   "metadata": {},
   "outputs": [],
   "source": [
    "# Drop rows where estimated_store_to_consumer_driving_duration is 0 - is not practical\n",
    "training_df_2 = training_df_2[(training_df_2.estimated_store_to_consumer_driving_duration>0)]"
   ]
  },
  {
   "cell_type": "code",
   "execution_count": 92,
   "metadata": {},
   "outputs": [
    {
     "data": {
      "text/html": [
       "<div>\n",
       "<style scoped>\n",
       "    .dataframe tbody tr th:only-of-type {\n",
       "        vertical-align: middle;\n",
       "    }\n",
       "\n",
       "    .dataframe tbody tr th {\n",
       "        vertical-align: top;\n",
       "    }\n",
       "\n",
       "    .dataframe thead th {\n",
       "        text-align: right;\n",
       "    }\n",
       "</style>\n",
       "<table border=\"1\" class=\"dataframe\">\n",
       "  <thead>\n",
       "    <tr style=\"text-align: right;\">\n",
       "      <th></th>\n",
       "      <th>0</th>\n",
       "      <th>1</th>\n",
       "      <th>2</th>\n",
       "      <th>3</th>\n",
       "      <th>4</th>\n",
       "    </tr>\n",
       "  </thead>\n",
       "  <tbody>\n",
       "    <tr>\n",
       "      <th>summary</th>\n",
       "      <td>count</td>\n",
       "      <td>mean</td>\n",
       "      <td>stddev</td>\n",
       "      <td>min</td>\n",
       "      <td>max</td>\n",
       "    </tr>\n",
       "    <tr>\n",
       "      <th>market_id</th>\n",
       "      <td>173763</td>\n",
       "      <td>2.771835955576122</td>\n",
       "      <td>1.3293983875033508</td>\n",
       "      <td>1</td>\n",
       "      <td>NA</td>\n",
       "    </tr>\n",
       "    <tr>\n",
       "      <th>created_at</th>\n",
       "      <td>173763</td>\n",
       "      <td>None</td>\n",
       "      <td>None</td>\n",
       "      <td>1/21/15 15:22</td>\n",
       "      <td>2/9/15 6:00</td>\n",
       "    </tr>\n",
       "    <tr>\n",
       "      <th>actual_delivery_time</th>\n",
       "      <td>173763</td>\n",
       "      <td>None</td>\n",
       "      <td>None</td>\n",
       "      <td>1/21/15 15:58</td>\n",
       "      <td>NA</td>\n",
       "    </tr>\n",
       "    <tr>\n",
       "      <th>store_id</th>\n",
       "      <td>173763</td>\n",
       "      <td>None</td>\n",
       "      <td>None</td>\n",
       "      <td>0004d0b59e19461ff126e3a08a814c33</td>\n",
       "      <td>ffeabd223de0d4eacb9a3e6e53e5448d</td>\n",
       "    </tr>\n",
       "    <tr>\n",
       "      <th>store_primary_category</th>\n",
       "      <td>173763</td>\n",
       "      <td>None</td>\n",
       "      <td>None</td>\n",
       "      <td>NA</td>\n",
       "      <td>vietnamese</td>\n",
       "    </tr>\n",
       "    <tr>\n",
       "      <th>order_protocol</th>\n",
       "      <td>173763</td>\n",
       "      <td>2.89506747728101</td>\n",
       "      <td>1.5141108306262807</td>\n",
       "      <td>1</td>\n",
       "      <td>NA</td>\n",
       "    </tr>\n",
       "    <tr>\n",
       "      <th>total_items</th>\n",
       "      <td>173763</td>\n",
       "      <td>3.1263329937903928</td>\n",
       "      <td>2.235394513014637</td>\n",
       "      <td>1</td>\n",
       "      <td>48</td>\n",
       "    </tr>\n",
       "    <tr>\n",
       "      <th>subtotal</th>\n",
       "      <td>173763</td>\n",
       "      <td>2711.4806144000736</td>\n",
       "      <td>1827.2401288913038</td>\n",
       "      <td>109</td>\n",
       "      <td>26800</td>\n",
       "    </tr>\n",
       "    <tr>\n",
       "      <th>num_distinct_items</th>\n",
       "      <td>173763</td>\n",
       "      <td>2.655174001369682</td>\n",
       "      <td>1.609267475185531</td>\n",
       "      <td>1</td>\n",
       "      <td>20</td>\n",
       "    </tr>\n",
       "    <tr>\n",
       "      <th>min_item_price</th>\n",
       "      <td>173763</td>\n",
       "      <td>695.0735254340682</td>\n",
       "      <td>519.271571410537</td>\n",
       "      <td>1</td>\n",
       "      <td>14700</td>\n",
       "    </tr>\n",
       "    <tr>\n",
       "      <th>max_item_price</th>\n",
       "      <td>173763</td>\n",
       "      <td>1167.4512295482928</td>\n",
       "      <td>557.7931733900975</td>\n",
       "      <td>60</td>\n",
       "      <td>14700</td>\n",
       "    </tr>\n",
       "    <tr>\n",
       "      <th>total_onshift_runners</th>\n",
       "      <td>173763</td>\n",
       "      <td>46.03146239418058</td>\n",
       "      <td>34.25845005656136</td>\n",
       "      <td>1</td>\n",
       "      <td>99</td>\n",
       "    </tr>\n",
       "    <tr>\n",
       "      <th>total_busy_runners</th>\n",
       "      <td>173763</td>\n",
       "      <td>42.8890212530861</td>\n",
       "      <td>31.878769175012046</td>\n",
       "      <td>1</td>\n",
       "      <td>99</td>\n",
       "    </tr>\n",
       "    <tr>\n",
       "      <th>total_outstanding_orders</th>\n",
       "      <td>173763</td>\n",
       "      <td>59.66917007648349</td>\n",
       "      <td>52.56896324043469</td>\n",
       "      <td>1</td>\n",
       "      <td>99</td>\n",
       "    </tr>\n",
       "    <tr>\n",
       "      <th>estimated_order_place_duration</th>\n",
       "      <td>173763</td>\n",
       "      <td>308.5997364225986</td>\n",
       "      <td>89.96586620444565</td>\n",
       "      <td>10</td>\n",
       "      <td>2715</td>\n",
       "    </tr>\n",
       "    <tr>\n",
       "      <th>estimated_store_to_consumer_driving_duration</th>\n",
       "      <td>173763</td>\n",
       "      <td>546.9328913520139</td>\n",
       "      <td>218.3634750752947</td>\n",
       "      <td>1</td>\n",
       "      <td>999</td>\n",
       "    </tr>\n",
       "  </tbody>\n",
       "</table>\n",
       "</div>"
      ],
      "text/plain": [
       "                                                   0                   1  \\\n",
       "summary                                        count                mean   \n",
       "market_id                                     173763   2.771835955576122   \n",
       "created_at                                    173763                None   \n",
       "actual_delivery_time                          173763                None   \n",
       "store_id                                      173763                None   \n",
       "store_primary_category                        173763                None   \n",
       "order_protocol                                173763    2.89506747728101   \n",
       "total_items                                   173763  3.1263329937903928   \n",
       "subtotal                                      173763  2711.4806144000736   \n",
       "num_distinct_items                            173763   2.655174001369682   \n",
       "min_item_price                                173763   695.0735254340682   \n",
       "max_item_price                                173763  1167.4512295482928   \n",
       "total_onshift_runners                         173763   46.03146239418058   \n",
       "total_busy_runners                            173763    42.8890212530861   \n",
       "total_outstanding_orders                      173763   59.66917007648349   \n",
       "estimated_order_place_duration                173763   308.5997364225986   \n",
       "estimated_store_to_consumer_driving_duration  173763   546.9328913520139   \n",
       "\n",
       "                                                               2  \\\n",
       "summary                                                   stddev   \n",
       "market_id                                     1.3293983875033508   \n",
       "created_at                                                  None   \n",
       "actual_delivery_time                                        None   \n",
       "store_id                                                    None   \n",
       "store_primary_category                                      None   \n",
       "order_protocol                                1.5141108306262807   \n",
       "total_items                                    2.235394513014637   \n",
       "subtotal                                      1827.2401288913038   \n",
       "num_distinct_items                             1.609267475185531   \n",
       "min_item_price                                  519.271571410537   \n",
       "max_item_price                                 557.7931733900975   \n",
       "total_onshift_runners                          34.25845005656136   \n",
       "total_busy_runners                            31.878769175012046   \n",
       "total_outstanding_orders                       52.56896324043469   \n",
       "estimated_order_place_duration                 89.96586620444565   \n",
       "estimated_store_to_consumer_driving_duration   218.3634750752947   \n",
       "\n",
       "                                                                             3  \\\n",
       "summary                                                                    min   \n",
       "market_id                                                                    1   \n",
       "created_at                                                       1/21/15 15:22   \n",
       "actual_delivery_time                                             1/21/15 15:58   \n",
       "store_id                                      0004d0b59e19461ff126e3a08a814c33   \n",
       "store_primary_category                                                      NA   \n",
       "order_protocol                                                               1   \n",
       "total_items                                                                  1   \n",
       "subtotal                                                                   109   \n",
       "num_distinct_items                                                           1   \n",
       "min_item_price                                                               1   \n",
       "max_item_price                                                              60   \n",
       "total_onshift_runners                                                        1   \n",
       "total_busy_runners                                                           1   \n",
       "total_outstanding_orders                                                     1   \n",
       "estimated_order_place_duration                                              10   \n",
       "estimated_store_to_consumer_driving_duration                                 1   \n",
       "\n",
       "                                                                             4  \n",
       "summary                                                                    max  \n",
       "market_id                                                                   NA  \n",
       "created_at                                                         2/9/15 6:00  \n",
       "actual_delivery_time                                                        NA  \n",
       "store_id                                      ffeabd223de0d4eacb9a3e6e53e5448d  \n",
       "store_primary_category                                              vietnamese  \n",
       "order_protocol                                                              NA  \n",
       "total_items                                                                 48  \n",
       "subtotal                                                                 26800  \n",
       "num_distinct_items                                                          20  \n",
       "min_item_price                                                           14700  \n",
       "max_item_price                                                           14700  \n",
       "total_onshift_runners                                                       99  \n",
       "total_busy_runners                                                          99  \n",
       "total_outstanding_orders                                                    99  \n",
       "estimated_order_place_duration                                            2715  \n",
       "estimated_store_to_consumer_driving_duration                               999  "
      ]
     },
     "execution_count": 92,
     "metadata": {},
     "output_type": "execute_result"
    }
   ],
   "source": [
    "training_df_2.describe().toPandas().transpose()"
   ]
  },
  {
   "cell_type": "code",
   "execution_count": 93,
   "metadata": {},
   "outputs": [],
   "source": [
    "# Drop rows with \"NA\" strings in columns\n",
    "training_df_3 = training_df_2[(training_df_2.market_id != \"NA\") & \n",
    "                             (training_df_2.actual_delivery_time != \"NA\") &\n",
    "                             (training_df_2.store_primary_category != \"NA\") &\n",
    "                             (training_df_2.order_protocol != \"NA\")]"
   ]
  },
  {
   "cell_type": "code",
   "execution_count": 94,
   "metadata": {},
   "outputs": [
    {
     "data": {
      "text/plain": [
       "169007"
      ]
     },
     "execution_count": 94,
     "metadata": {},
     "output_type": "execute_result"
    }
   ],
   "source": [
    "training_df_3.count()"
   ]
  },
  {
   "cell_type": "code",
   "execution_count": 95,
   "metadata": {},
   "outputs": [
    {
     "data": {
      "text/html": [
       "<div>\n",
       "<style scoped>\n",
       "    .dataframe tbody tr th:only-of-type {\n",
       "        vertical-align: middle;\n",
       "    }\n",
       "\n",
       "    .dataframe tbody tr th {\n",
       "        vertical-align: top;\n",
       "    }\n",
       "\n",
       "    .dataframe thead th {\n",
       "        text-align: right;\n",
       "    }\n",
       "</style>\n",
       "<table border=\"1\" class=\"dataframe\">\n",
       "  <thead>\n",
       "    <tr style=\"text-align: right;\">\n",
       "      <th></th>\n",
       "      <th>0</th>\n",
       "      <th>1</th>\n",
       "      <th>2</th>\n",
       "      <th>3</th>\n",
       "      <th>4</th>\n",
       "    </tr>\n",
       "  </thead>\n",
       "  <tbody>\n",
       "    <tr>\n",
       "      <th>summary</th>\n",
       "      <td>count</td>\n",
       "      <td>mean</td>\n",
       "      <td>stddev</td>\n",
       "      <td>min</td>\n",
       "      <td>max</td>\n",
       "    </tr>\n",
       "    <tr>\n",
       "      <th>market_id</th>\n",
       "      <td>169007</td>\n",
       "      <td>2.7670451519759536</td>\n",
       "      <td>1.3285725401233055</td>\n",
       "      <td>1</td>\n",
       "      <td>6</td>\n",
       "    </tr>\n",
       "    <tr>\n",
       "      <th>created_at</th>\n",
       "      <td>169007</td>\n",
       "      <td>None</td>\n",
       "      <td>None</td>\n",
       "      <td>1/21/15 15:22</td>\n",
       "      <td>2/9/15 6:00</td>\n",
       "    </tr>\n",
       "    <tr>\n",
       "      <th>actual_delivery_time</th>\n",
       "      <td>169007</td>\n",
       "      <td>None</td>\n",
       "      <td>None</td>\n",
       "      <td>1/21/15 16:17</td>\n",
       "      <td>2/9/15 7:47</td>\n",
       "    </tr>\n",
       "    <tr>\n",
       "      <th>store_id</th>\n",
       "      <td>169007</td>\n",
       "      <td>None</td>\n",
       "      <td>None</td>\n",
       "      <td>0004d0b59e19461ff126e3a08a814c33</td>\n",
       "      <td>ffeabd223de0d4eacb9a3e6e53e5448d</td>\n",
       "    </tr>\n",
       "    <tr>\n",
       "      <th>store_primary_category</th>\n",
       "      <td>169007</td>\n",
       "      <td>None</td>\n",
       "      <td>None</td>\n",
       "      <td>afghan</td>\n",
       "      <td>vietnamese</td>\n",
       "    </tr>\n",
       "    <tr>\n",
       "      <th>order_protocol</th>\n",
       "      <td>169007</td>\n",
       "      <td>2.9110036862378483</td>\n",
       "      <td>1.5120985217914669</td>\n",
       "      <td>1</td>\n",
       "      <td>7</td>\n",
       "    </tr>\n",
       "    <tr>\n",
       "      <th>total_items</th>\n",
       "      <td>169007</td>\n",
       "      <td>3.121361837083671</td>\n",
       "      <td>2.2289142672365427</td>\n",
       "      <td>1</td>\n",
       "      <td>48</td>\n",
       "    </tr>\n",
       "    <tr>\n",
       "      <th>subtotal</th>\n",
       "      <td>169007</td>\n",
       "      <td>2709.61501002917</td>\n",
       "      <td>1826.8005545484448</td>\n",
       "      <td>109</td>\n",
       "      <td>26800</td>\n",
       "    </tr>\n",
       "    <tr>\n",
       "      <th>num_distinct_items</th>\n",
       "      <td>169007</td>\n",
       "      <td>2.651771820102126</td>\n",
       "      <td>1.6072491612831503</td>\n",
       "      <td>1</td>\n",
       "      <td>20</td>\n",
       "    </tr>\n",
       "    <tr>\n",
       "      <th>min_item_price</th>\n",
       "      <td>169007</td>\n",
       "      <td>695.3186909417954</td>\n",
       "      <td>517.7763148213952</td>\n",
       "      <td>1</td>\n",
       "      <td>14700</td>\n",
       "    </tr>\n",
       "    <tr>\n",
       "      <th>max_item_price</th>\n",
       "      <td>169007</td>\n",
       "      <td>1166.638535681954</td>\n",
       "      <td>556.6401399046711</td>\n",
       "      <td>60</td>\n",
       "      <td>14700</td>\n",
       "    </tr>\n",
       "    <tr>\n",
       "      <th>total_onshift_runners</th>\n",
       "      <td>169007</td>\n",
       "      <td>46.136171874537744</td>\n",
       "      <td>34.25862982180274</td>\n",
       "      <td>1</td>\n",
       "      <td>99</td>\n",
       "    </tr>\n",
       "    <tr>\n",
       "      <th>total_busy_runners</th>\n",
       "      <td>169007</td>\n",
       "      <td>43.00124846899833</td>\n",
       "      <td>31.884539203168885</td>\n",
       "      <td>1</td>\n",
       "      <td>99</td>\n",
       "    </tr>\n",
       "    <tr>\n",
       "      <th>total_outstanding_orders</th>\n",
       "      <td>169007</td>\n",
       "      <td>59.83523759370914</td>\n",
       "      <td>52.61318670294281</td>\n",
       "      <td>1</td>\n",
       "      <td>99</td>\n",
       "    </tr>\n",
       "    <tr>\n",
       "      <th>estimated_order_place_duration</th>\n",
       "      <td>169007</td>\n",
       "      <td>307.53126201873295</td>\n",
       "      <td>89.40710013767577</td>\n",
       "      <td>10</td>\n",
       "      <td>2715</td>\n",
       "    </tr>\n",
       "    <tr>\n",
       "      <th>estimated_store_to_consumer_driving_duration</th>\n",
       "      <td>169007</td>\n",
       "      <td>547.0578023395481</td>\n",
       "      <td>218.5102790952295</td>\n",
       "      <td>1</td>\n",
       "      <td>999</td>\n",
       "    </tr>\n",
       "  </tbody>\n",
       "</table>\n",
       "</div>"
      ],
      "text/plain": [
       "                                                   0                   1  \\\n",
       "summary                                        count                mean   \n",
       "market_id                                     169007  2.7670451519759536   \n",
       "created_at                                    169007                None   \n",
       "actual_delivery_time                          169007                None   \n",
       "store_id                                      169007                None   \n",
       "store_primary_category                        169007                None   \n",
       "order_protocol                                169007  2.9110036862378483   \n",
       "total_items                                   169007   3.121361837083671   \n",
       "subtotal                                      169007    2709.61501002917   \n",
       "num_distinct_items                            169007   2.651771820102126   \n",
       "min_item_price                                169007   695.3186909417954   \n",
       "max_item_price                                169007   1166.638535681954   \n",
       "total_onshift_runners                         169007  46.136171874537744   \n",
       "total_busy_runners                            169007   43.00124846899833   \n",
       "total_outstanding_orders                      169007   59.83523759370914   \n",
       "estimated_order_place_duration                169007  307.53126201873295   \n",
       "estimated_store_to_consumer_driving_duration  169007   547.0578023395481   \n",
       "\n",
       "                                                               2  \\\n",
       "summary                                                   stddev   \n",
       "market_id                                     1.3285725401233055   \n",
       "created_at                                                  None   \n",
       "actual_delivery_time                                        None   \n",
       "store_id                                                    None   \n",
       "store_primary_category                                      None   \n",
       "order_protocol                                1.5120985217914669   \n",
       "total_items                                   2.2289142672365427   \n",
       "subtotal                                      1826.8005545484448   \n",
       "num_distinct_items                            1.6072491612831503   \n",
       "min_item_price                                 517.7763148213952   \n",
       "max_item_price                                 556.6401399046711   \n",
       "total_onshift_runners                          34.25862982180274   \n",
       "total_busy_runners                            31.884539203168885   \n",
       "total_outstanding_orders                       52.61318670294281   \n",
       "estimated_order_place_duration                 89.40710013767577   \n",
       "estimated_store_to_consumer_driving_duration   218.5102790952295   \n",
       "\n",
       "                                                                             3  \\\n",
       "summary                                                                    min   \n",
       "market_id                                                                    1   \n",
       "created_at                                                       1/21/15 15:22   \n",
       "actual_delivery_time                                             1/21/15 16:17   \n",
       "store_id                                      0004d0b59e19461ff126e3a08a814c33   \n",
       "store_primary_category                                                  afghan   \n",
       "order_protocol                                                               1   \n",
       "total_items                                                                  1   \n",
       "subtotal                                                                   109   \n",
       "num_distinct_items                                                           1   \n",
       "min_item_price                                                               1   \n",
       "max_item_price                                                              60   \n",
       "total_onshift_runners                                                        1   \n",
       "total_busy_runners                                                           1   \n",
       "total_outstanding_orders                                                     1   \n",
       "estimated_order_place_duration                                              10   \n",
       "estimated_store_to_consumer_driving_duration                                 1   \n",
       "\n",
       "                                                                             4  \n",
       "summary                                                                    max  \n",
       "market_id                                                                    6  \n",
       "created_at                                                         2/9/15 6:00  \n",
       "actual_delivery_time                                               2/9/15 7:47  \n",
       "store_id                                      ffeabd223de0d4eacb9a3e6e53e5448d  \n",
       "store_primary_category                                              vietnamese  \n",
       "order_protocol                                                               7  \n",
       "total_items                                                                 48  \n",
       "subtotal                                                                 26800  \n",
       "num_distinct_items                                                          20  \n",
       "min_item_price                                                           14700  \n",
       "max_item_price                                                           14700  \n",
       "total_onshift_runners                                                       99  \n",
       "total_busy_runners                                                          99  \n",
       "total_outstanding_orders                                                    99  \n",
       "estimated_order_place_duration                                            2715  \n",
       "estimated_store_to_consumer_driving_duration                               999  "
      ]
     },
     "execution_count": 95,
     "metadata": {},
     "output_type": "execute_result"
    }
   ],
   "source": [
    "training_df_3.describe().toPandas().transpose()"
   ]
  },
  {
   "cell_type": "code",
   "execution_count": 96,
   "metadata": {
    "scrolled": true
   },
   "outputs": [
    {
     "name": "stdout",
     "output_type": "stream",
     "text": [
      "1423290240\n"
     ]
    }
   ],
   "source": [
    "# Convert datetime string to seconds\n",
    "print(int(mktime(strptime(\"2/6/15 22:24\", \"%m/%d/%y %H:%M\"))))"
   ]
  },
  {
   "cell_type": "code",
   "execution_count": 97,
   "metadata": {},
   "outputs": [],
   "source": [
    "def rdd_datetime_to_sec(input_time):\n",
    "    return int(mktime(strptime(input_time, \"%m/%d/%y %H:%M\")))\n",
    "\n",
    "udf_rdd_datetime_to_sec = fn.udf(rdd_datetime_to_sec, IntegerType())  # LongType() not available for now"
   ]
  },
  {
   "cell_type": "code",
   "execution_count": 98,
   "metadata": {},
   "outputs": [],
   "source": [
    "training_df_3 = training_df_3.withColumn('created_at',\n",
    "                                        udf_rdd_datetime_to_sec(fn.col('created_at')))\n",
    "training_df_3 = training_df_3.withColumn('actual_delivery_time',\n",
    "                                        udf_rdd_datetime_to_sec(fn.col('actual_delivery_time')))\n",
    "training_df_3 = training_df_3.withColumn('total_delivery_duration',\n",
    "                                        training_df_3['actual_delivery_time'] - training_df_3['created_at'])\n"
   ]
  },
  {
   "cell_type": "code",
   "execution_count": 99,
   "metadata": {},
   "outputs": [
    {
     "data": {
      "text/html": [
       "<div>\n",
       "<style scoped>\n",
       "    .dataframe tbody tr th:only-of-type {\n",
       "        vertical-align: middle;\n",
       "    }\n",
       "\n",
       "    .dataframe tbody tr th {\n",
       "        vertical-align: top;\n",
       "    }\n",
       "\n",
       "    .dataframe thead th {\n",
       "        text-align: right;\n",
       "    }\n",
       "</style>\n",
       "<table border=\"1\" class=\"dataframe\">\n",
       "  <thead>\n",
       "    <tr style=\"text-align: right;\">\n",
       "      <th></th>\n",
       "      <th>0</th>\n",
       "      <th>1</th>\n",
       "      <th>2</th>\n",
       "      <th>3</th>\n",
       "      <th>4</th>\n",
       "    </tr>\n",
       "  </thead>\n",
       "  <tbody>\n",
       "    <tr>\n",
       "      <th>summary</th>\n",
       "      <td>count</td>\n",
       "      <td>mean</td>\n",
       "      <td>stddev</td>\n",
       "      <td>min</td>\n",
       "      <td>max</td>\n",
       "    </tr>\n",
       "    <tr>\n",
       "      <th>market_id</th>\n",
       "      <td>169007</td>\n",
       "      <td>2.7670451519759536</td>\n",
       "      <td>1.3285725401233055</td>\n",
       "      <td>1</td>\n",
       "      <td>6</td>\n",
       "    </tr>\n",
       "    <tr>\n",
       "      <th>created_at</th>\n",
       "      <td>169007</td>\n",
       "      <td>1.4231087064691994E9</td>\n",
       "      <td>694850.7354175277</td>\n",
       "      <td>1421882520</td>\n",
       "      <td>1424268000</td>\n",
       "    </tr>\n",
       "    <tr>\n",
       "      <th>actual_delivery_time</th>\n",
       "      <td>169007</td>\n",
       "      <td>1.423111562577763E9</td>\n",
       "      <td>694896.7488149876</td>\n",
       "      <td>1421885820</td>\n",
       "      <td>1424414700</td>\n",
       "    </tr>\n",
       "    <tr>\n",
       "      <th>store_id</th>\n",
       "      <td>169007</td>\n",
       "      <td>None</td>\n",
       "      <td>None</td>\n",
       "      <td>0004d0b59e19461ff126e3a08a814c33</td>\n",
       "      <td>ffeabd223de0d4eacb9a3e6e53e5448d</td>\n",
       "    </tr>\n",
       "    <tr>\n",
       "      <th>store_primary_category</th>\n",
       "      <td>169007</td>\n",
       "      <td>None</td>\n",
       "      <td>None</td>\n",
       "      <td>afghan</td>\n",
       "      <td>vietnamese</td>\n",
       "    </tr>\n",
       "    <tr>\n",
       "      <th>order_protocol</th>\n",
       "      <td>169007</td>\n",
       "      <td>2.9110036862378483</td>\n",
       "      <td>1.5120985217914669</td>\n",
       "      <td>1</td>\n",
       "      <td>7</td>\n",
       "    </tr>\n",
       "    <tr>\n",
       "      <th>total_items</th>\n",
       "      <td>169007</td>\n",
       "      <td>3.121361837083671</td>\n",
       "      <td>2.2289142672365427</td>\n",
       "      <td>1</td>\n",
       "      <td>48</td>\n",
       "    </tr>\n",
       "    <tr>\n",
       "      <th>subtotal</th>\n",
       "      <td>169007</td>\n",
       "      <td>2709.61501002917</td>\n",
       "      <td>1826.8005545484448</td>\n",
       "      <td>109</td>\n",
       "      <td>26800</td>\n",
       "    </tr>\n",
       "    <tr>\n",
       "      <th>num_distinct_items</th>\n",
       "      <td>169007</td>\n",
       "      <td>2.651771820102126</td>\n",
       "      <td>1.6072491612831503</td>\n",
       "      <td>1</td>\n",
       "      <td>20</td>\n",
       "    </tr>\n",
       "    <tr>\n",
       "      <th>min_item_price</th>\n",
       "      <td>169007</td>\n",
       "      <td>695.3186909417954</td>\n",
       "      <td>517.7763148213952</td>\n",
       "      <td>1</td>\n",
       "      <td>14700</td>\n",
       "    </tr>\n",
       "    <tr>\n",
       "      <th>max_item_price</th>\n",
       "      <td>169007</td>\n",
       "      <td>1166.638535681954</td>\n",
       "      <td>556.6401399046711</td>\n",
       "      <td>60</td>\n",
       "      <td>14700</td>\n",
       "    </tr>\n",
       "    <tr>\n",
       "      <th>total_onshift_runners</th>\n",
       "      <td>169007</td>\n",
       "      <td>46.136171874537744</td>\n",
       "      <td>34.25862982180274</td>\n",
       "      <td>1</td>\n",
       "      <td>99</td>\n",
       "    </tr>\n",
       "    <tr>\n",
       "      <th>total_busy_runners</th>\n",
       "      <td>169007</td>\n",
       "      <td>43.00124846899833</td>\n",
       "      <td>31.884539203168885</td>\n",
       "      <td>1</td>\n",
       "      <td>99</td>\n",
       "    </tr>\n",
       "    <tr>\n",
       "      <th>total_outstanding_orders</th>\n",
       "      <td>169007</td>\n",
       "      <td>59.83523759370914</td>\n",
       "      <td>52.61318670294281</td>\n",
       "      <td>1</td>\n",
       "      <td>99</td>\n",
       "    </tr>\n",
       "    <tr>\n",
       "      <th>estimated_order_place_duration</th>\n",
       "      <td>169007</td>\n",
       "      <td>307.53126201873295</td>\n",
       "      <td>89.40710013767577</td>\n",
       "      <td>10</td>\n",
       "      <td>2715</td>\n",
       "    </tr>\n",
       "    <tr>\n",
       "      <th>estimated_store_to_consumer_driving_duration</th>\n",
       "      <td>169007</td>\n",
       "      <td>547.0578023395481</td>\n",
       "      <td>218.5102790952295</td>\n",
       "      <td>1</td>\n",
       "      <td>999</td>\n",
       "    </tr>\n",
       "    <tr>\n",
       "      <th>total_delivery_duration</th>\n",
       "      <td>169007</td>\n",
       "      <td>2856.108563550622</td>\n",
       "      <td>1406.3561293121495</td>\n",
       "      <td>120</td>\n",
       "      <td>332460</td>\n",
       "    </tr>\n",
       "  </tbody>\n",
       "</table>\n",
       "</div>"
      ],
      "text/plain": [
       "                                                   0                     1  \\\n",
       "summary                                        count                  mean   \n",
       "market_id                                     169007    2.7670451519759536   \n",
       "created_at                                    169007  1.4231087064691994E9   \n",
       "actual_delivery_time                          169007   1.423111562577763E9   \n",
       "store_id                                      169007                  None   \n",
       "store_primary_category                        169007                  None   \n",
       "order_protocol                                169007    2.9110036862378483   \n",
       "total_items                                   169007     3.121361837083671   \n",
       "subtotal                                      169007      2709.61501002917   \n",
       "num_distinct_items                            169007     2.651771820102126   \n",
       "min_item_price                                169007     695.3186909417954   \n",
       "max_item_price                                169007     1166.638535681954   \n",
       "total_onshift_runners                         169007    46.136171874537744   \n",
       "total_busy_runners                            169007     43.00124846899833   \n",
       "total_outstanding_orders                      169007     59.83523759370914   \n",
       "estimated_order_place_duration                169007    307.53126201873295   \n",
       "estimated_store_to_consumer_driving_duration  169007     547.0578023395481   \n",
       "total_delivery_duration                       169007     2856.108563550622   \n",
       "\n",
       "                                                               2  \\\n",
       "summary                                                   stddev   \n",
       "market_id                                     1.3285725401233055   \n",
       "created_at                                     694850.7354175277   \n",
       "actual_delivery_time                           694896.7488149876   \n",
       "store_id                                                    None   \n",
       "store_primary_category                                      None   \n",
       "order_protocol                                1.5120985217914669   \n",
       "total_items                                   2.2289142672365427   \n",
       "subtotal                                      1826.8005545484448   \n",
       "num_distinct_items                            1.6072491612831503   \n",
       "min_item_price                                 517.7763148213952   \n",
       "max_item_price                                 556.6401399046711   \n",
       "total_onshift_runners                          34.25862982180274   \n",
       "total_busy_runners                            31.884539203168885   \n",
       "total_outstanding_orders                       52.61318670294281   \n",
       "estimated_order_place_duration                 89.40710013767577   \n",
       "estimated_store_to_consumer_driving_duration   218.5102790952295   \n",
       "total_delivery_duration                       1406.3561293121495   \n",
       "\n",
       "                                                                             3  \\\n",
       "summary                                                                    min   \n",
       "market_id                                                                    1   \n",
       "created_at                                                          1421882520   \n",
       "actual_delivery_time                                                1421885820   \n",
       "store_id                                      0004d0b59e19461ff126e3a08a814c33   \n",
       "store_primary_category                                                  afghan   \n",
       "order_protocol                                                               1   \n",
       "total_items                                                                  1   \n",
       "subtotal                                                                   109   \n",
       "num_distinct_items                                                           1   \n",
       "min_item_price                                                               1   \n",
       "max_item_price                                                              60   \n",
       "total_onshift_runners                                                        1   \n",
       "total_busy_runners                                                           1   \n",
       "total_outstanding_orders                                                     1   \n",
       "estimated_order_place_duration                                              10   \n",
       "estimated_store_to_consumer_driving_duration                                 1   \n",
       "total_delivery_duration                                                    120   \n",
       "\n",
       "                                                                             4  \n",
       "summary                                                                    max  \n",
       "market_id                                                                    6  \n",
       "created_at                                                          1424268000  \n",
       "actual_delivery_time                                                1424414700  \n",
       "store_id                                      ffeabd223de0d4eacb9a3e6e53e5448d  \n",
       "store_primary_category                                              vietnamese  \n",
       "order_protocol                                                               7  \n",
       "total_items                                                                 48  \n",
       "subtotal                                                                 26800  \n",
       "num_distinct_items                                                          20  \n",
       "min_item_price                                                           14700  \n",
       "max_item_price                                                           14700  \n",
       "total_onshift_runners                                                       99  \n",
       "total_busy_runners                                                          99  \n",
       "total_outstanding_orders                                                    99  \n",
       "estimated_order_place_duration                                            2715  \n",
       "estimated_store_to_consumer_driving_duration                               999  \n",
       "total_delivery_duration                                                 332460  "
      ]
     },
     "execution_count": 99,
     "metadata": {},
     "output_type": "execute_result"
    }
   ],
   "source": [
    "# More exploration\n",
    "training_df_3.describe().toPandas().transpose()"
   ]
  },
  {
   "cell_type": "code",
   "execution_count": 100,
   "metadata": {},
   "outputs": [
    {
     "name": "stdout",
     "output_type": "stream",
     "text": [
      "+---------+----------+--------------------+--------------------+----------------------+--------------+-----------+--------+------------------+--------------+--------------+---------------------+------------------+------------------------+------------------------------+--------------------------------------------+-----------------------+\n",
      "|market_id|created_at|actual_delivery_time|            store_id|store_primary_category|order_protocol|total_items|subtotal|num_distinct_items|min_item_price|max_item_price|total_onshift_runners|total_busy_runners|total_outstanding_orders|estimated_order_place_duration|estimated_store_to_consumer_driving_duration|total_delivery_duration|\n",
      "+---------+----------+--------------------+--------------------+----------------------+--------------+-----------+--------+------------------+--------------+--------------+---------------------+------------------+------------------------+------------------------------+--------------------------------------------+-----------------------+\n",
      "|        1|1424082240|          1424414700|d397c2b2be2178fe6...|                indian|             3|          4|    4980|                 4|           995|          1795|                   72|                68|                     104|                           251|                                         767|                 332460|\n",
      "+---------+----------+--------------------+--------------------+----------------------+--------------+-----------+--------+------------------+--------------+--------------+---------------------+------------------+------------------------+------------------------------+--------------------------------------------+-----------------------+\n",
      "\n"
     ]
    }
   ],
   "source": [
    "training_df_3[training_df_3.total_delivery_duration == 332460].show()"
   ]
  },
  {
   "cell_type": "code",
   "execution_count": 101,
   "metadata": {},
   "outputs": [
    {
     "name": "stdout",
     "output_type": "stream",
     "text": [
      "+---------+----------+--------------------+--------------------+----------------------+--------------+-----------+--------+------------------+--------------+--------------+---------------------+------------------+------------------------+------------------------------+--------------------------------------------+-----------------------+\n",
      "|market_id|created_at|actual_delivery_time|            store_id|store_primary_category|order_protocol|total_items|subtotal|num_distinct_items|min_item_price|max_item_price|total_onshift_runners|total_busy_runners|total_outstanding_orders|estimated_order_place_duration|estimated_store_to_consumer_driving_duration|total_delivery_duration|\n",
      "+---------+----------+--------------------+--------------------+----------------------+--------------+-----------+--------+------------------+--------------+--------------+---------------------+------------------+------------------------+------------------------------+--------------------------------------------+-----------------------+\n",
      "|        1|1423455300|          1423460880|995e1fda4a2b5f55e...|              sandwich|             5|          2|    2630|                 2|          1260|          1370|                   16|                16|                      31|                          2715|                                         507|                   5580|\n",
      "+---------+----------+--------------------+--------------------+----------------------+--------------+-----------+--------+------------------+--------------+--------------+---------------------+------------------+------------------------+------------------------------+--------------------------------------------+-----------------------+\n",
      "\n"
     ]
    }
   ],
   "source": [
    "training_df_3[training_df_3.estimated_order_place_duration == 2715].show()"
   ]
  },
  {
   "cell_type": "code",
   "execution_count": 102,
   "metadata": {},
   "outputs": [
    {
     "name": "stdout",
     "output_type": "stream",
     "text": [
      "+---------+----------+--------------------+--------------------+----------------------+--------------+-----------+--------+------------------+--------------+--------------+---------------------+------------------+------------------------+------------------------------+--------------------------------------------+-----------------------+\n",
      "|market_id|created_at|actual_delivery_time|            store_id|store_primary_category|order_protocol|total_items|subtotal|num_distinct_items|min_item_price|max_item_price|total_onshift_runners|total_busy_runners|total_outstanding_orders|estimated_order_place_duration|estimated_store_to_consumer_driving_duration|total_delivery_duration|\n",
      "+---------+----------+--------------------+--------------------+----------------------+--------------+-----------+--------+------------------+--------------+--------------+---------------------+------------------+------------------------+------------------------------+--------------------------------------------+-----------------------+\n",
      "|        3|1423042500|          1423047720|36452e720502e4da4...|             breakfast|             5|          1|   14700|                 1|         14700|         14700|                   23|                21|                      22|                           251|                                         934|                   5220|\n",
      "+---------+----------+--------------------+--------------------+----------------------+--------------+-----------+--------+------------------+--------------+--------------+---------------------+------------------+------------------------+------------------------------+--------------------------------------------+-----------------------+\n",
      "\n"
     ]
    }
   ],
   "source": [
    "training_df_3[training_df_3.min_item_price == 14700].show()"
   ]
  },
  {
   "cell_type": "code",
   "execution_count": 103,
   "metadata": {},
   "outputs": [
    {
     "name": "stdout",
     "output_type": "stream",
     "text": [
      "+---------+----------+--------------------+--------------------+----------------------+--------------+-----------+--------+------------------+--------------+--------------+---------------------+------------------+------------------------+------------------------------+--------------------------------------------+-----------------------+\n",
      "|market_id|created_at|actual_delivery_time|            store_id|store_primary_category|order_protocol|total_items|subtotal|num_distinct_items|min_item_price|max_item_price|total_onshift_runners|total_busy_runners|total_outstanding_orders|estimated_order_place_duration|estimated_store_to_consumer_driving_duration|total_delivery_duration|\n",
      "+---------+----------+--------------------+--------------------+----------------------+--------------+-----------+--------+------------------+--------------+--------------+---------------------+------------------+------------------------+------------------------------+--------------------------------------------+-----------------------+\n",
      "|        1|1422353460|          1422358500|fd2c5e4680d9a01db...|            vietnamese|             5|         25|   26800|                13|           200|          1800|                   13|                14|                      17|                           251|                                         745|                   5040|\n",
      "+---------+----------+--------------------+--------------------+----------------------+--------------+-----------+--------+------------------+--------------+--------------+---------------------+------------------+------------------------+------------------------------+--------------------------------------------+-----------------------+\n",
      "\n"
     ]
    }
   ],
   "source": [
    "training_df_3[training_df_3.subtotal == 26800].show()"
   ]
  },
  {
   "cell_type": "code",
   "execution_count": 104,
   "metadata": {},
   "outputs": [],
   "source": [
    "# Map store_id string to unique number\n",
    "stringindexer = StringIndexer().setInputCol(\"store_id\").setOutputCol(\"store_id_int\")\n",
    "modelc = stringindexer.fit(training_df_3)\n",
    "training_df_4 = modelc.transform(training_df_3)"
   ]
  },
  {
   "cell_type": "code",
   "execution_count": 105,
   "metadata": {},
   "outputs": [],
   "source": [
    "# Map store_primary_category to unique number\n",
    "stringindexer = StringIndexer().setInputCol(\"store_primary_category\").setOutputCol(\"store_primary_category_int\")\n",
    "modelc = stringindexer.fit(training_df_4)\n",
    "training_df_4 = modelc.transform(training_df_4)"
   ]
  },
  {
   "cell_type": "code",
   "execution_count": 106,
   "metadata": {},
   "outputs": [
    {
     "data": {
      "text/plain": [
       "5430"
      ]
     },
     "execution_count": 106,
     "metadata": {},
     "output_type": "execute_result"
    }
   ],
   "source": [
    "# Recheck\n",
    "training_df_4.select('store_id').distinct().count()"
   ]
  },
  {
   "cell_type": "code",
   "execution_count": 107,
   "metadata": {},
   "outputs": [
    {
     "data": {
      "text/plain": [
       "5430"
      ]
     },
     "execution_count": 107,
     "metadata": {},
     "output_type": "execute_result"
    }
   ],
   "source": [
    "training_df_4.select('store_id_int').distinct().count()"
   ]
  },
  {
   "cell_type": "code",
   "execution_count": 108,
   "metadata": {},
   "outputs": [
    {
     "data": {
      "text/plain": [
       "73"
      ]
     },
     "execution_count": 108,
     "metadata": {},
     "output_type": "execute_result"
    }
   ],
   "source": [
    "training_df_4.select('store_primary_category').distinct().count()"
   ]
  },
  {
   "cell_type": "code",
   "execution_count": 109,
   "metadata": {},
   "outputs": [
    {
     "data": {
      "text/plain": [
       "73"
      ]
     },
     "execution_count": 109,
     "metadata": {},
     "output_type": "execute_result"
    }
   ],
   "source": [
    "training_df_4.select('store_primary_category_int').distinct().count()"
   ]
  },
  {
   "cell_type": "code",
   "execution_count": 110,
   "metadata": {},
   "outputs": [
    {
     "name": "stdout",
     "output_type": "stream",
     "text": [
      "root\n",
      " |-- market_id: string (nullable = true)\n",
      " |-- created_at: integer (nullable = true)\n",
      " |-- actual_delivery_time: integer (nullable = true)\n",
      " |-- store_id: string (nullable = true)\n",
      " |-- store_primary_category: string (nullable = true)\n",
      " |-- order_protocol: string (nullable = true)\n",
      " |-- total_items: integer (nullable = true)\n",
      " |-- subtotal: integer (nullable = true)\n",
      " |-- num_distinct_items: integer (nullable = true)\n",
      " |-- min_item_price: integer (nullable = true)\n",
      " |-- max_item_price: integer (nullable = true)\n",
      " |-- total_onshift_runners: string (nullable = true)\n",
      " |-- total_busy_runners: string (nullable = true)\n",
      " |-- total_outstanding_orders: string (nullable = true)\n",
      " |-- estimated_order_place_duration: integer (nullable = true)\n",
      " |-- estimated_store_to_consumer_driving_duration: string (nullable = true)\n",
      " |-- total_delivery_duration: integer (nullable = true)\n",
      " |-- store_id_int: double (nullable = false)\n",
      " |-- store_primary_category_int: double (nullable = false)\n",
      "\n"
     ]
    }
   ],
   "source": [
    "training_df_4.printSchema()"
   ]
  },
  {
   "cell_type": "code",
   "execution_count": 111,
   "metadata": {},
   "outputs": [
    {
     "name": "stdout",
     "output_type": "stream",
     "text": [
      "root\n",
      " |-- market_id: integer (nullable = true)\n",
      " |-- created_at: integer (nullable = true)\n",
      " |-- actual_delivery_time: integer (nullable = true)\n",
      " |-- store_id: string (nullable = true)\n",
      " |-- store_primary_category: string (nullable = true)\n",
      " |-- order_protocol: integer (nullable = true)\n",
      " |-- total_items: integer (nullable = true)\n",
      " |-- subtotal: integer (nullable = true)\n",
      " |-- num_distinct_items: integer (nullable = true)\n",
      " |-- min_item_price: integer (nullable = true)\n",
      " |-- max_item_price: integer (nullable = true)\n",
      " |-- total_onshift_runners: integer (nullable = true)\n",
      " |-- total_busy_runners: integer (nullable = true)\n",
      " |-- total_outstanding_orders: integer (nullable = true)\n",
      " |-- estimated_order_place_duration: integer (nullable = true)\n",
      " |-- estimated_store_to_consumer_driving_duration: integer (nullable = true)\n",
      " |-- total_delivery_duration: integer (nullable = true)\n",
      " |-- store_id_int: double (nullable = false)\n",
      " |-- store_primary_category_int: double (nullable = false)\n",
      "\n"
     ]
    }
   ],
   "source": [
    "training_df_4 = training_df_4.withColumn(\"market_id\", training_df_4[\"market_id\"].cast(IntegerType()))\n",
    "training_df_4 = training_df_4.withColumn(\"order_protocol\", training_df_4[\"order_protocol\"].cast(IntegerType()))\n",
    "\n",
    "training_df_4 = training_df_4.withColumn(\"total_onshift_runners\", training_df_4[\"total_onshift_runners\"].cast(IntegerType()))\n",
    "training_df_4 = training_df_4.withColumn(\"total_busy_runners\", training_df_4[\"total_busy_runners\"].cast(IntegerType()))\n",
    "\n",
    "training_df_4 = training_df_4.withColumn(\"total_outstanding_orders\", training_df_4[\"total_outstanding_orders\"].cast(IntegerType()))\n",
    "training_df_4 = training_df_4.withColumn(\"estimated_store_to_consumer_driving_duration\", training_df_4[\"estimated_store_to_consumer_driving_duration\"].cast(IntegerType()))\n",
    "\n",
    "training_df_4.printSchema()"
   ]
  },
  {
   "cell_type": "code",
   "execution_count": 112,
   "metadata": {},
   "outputs": [],
   "source": [
    "# Drop string columns as we created respective columns with numerical values\n",
    "training_df_4 = training_df_4.drop('store_id', 'store_primary_category')"
   ]
  },
  {
   "cell_type": "code",
   "execution_count": 113,
   "metadata": {},
   "outputs": [],
   "source": [
    "# Drop actual_delivery_time as we have computed total_delivery_duration\n",
    "training_df_4 = training_df_4.drop('actual_delivery_time')"
   ]
  },
  {
   "cell_type": "code",
   "execution_count": 114,
   "metadata": {},
   "outputs": [
    {
     "name": "stdout",
     "output_type": "stream",
     "text": [
      "+---------+----------+--------------+-----------+--------+------------------+--------------+--------------+---------------------+------------------+------------------------+------------------------------+--------------------------------------------+-----------------------+------------+--------------------------+\n",
      "|market_id|created_at|order_protocol|total_items|subtotal|num_distinct_items|min_item_price|max_item_price|total_onshift_runners|total_busy_runners|total_outstanding_orders|estimated_order_place_duration|estimated_store_to_consumer_driving_duration|total_delivery_duration|store_id_int|store_primary_category_int|\n",
      "+---------+----------+--------------+-----------+--------+------------------+--------------+--------------+---------------------+------------------+------------------------+------------------------------+--------------------------------------------+-----------------------+------------+--------------------------+\n",
      "|        0|         0|             0|          0|       0|                 0|             0|             0|                    0|                 0|                       0|                             0|                                           0|                      0|           0|                         0|\n",
      "+---------+----------+--------------+-----------+--------+------------------+--------------+--------------+---------------------+------------------+------------------------+------------------------------+--------------------------------------------+-----------------------+------------+--------------------------+\n",
      "\n"
     ]
    }
   ],
   "source": [
    "# Check for more bad values before we go into training\n",
    "training_df_4.select([fn.count(fn.when(fn.isnan(c) | fn.col(c).isNull(), c)).alias(c) for c in training_df_4.columns]).show()"
   ]
  },
  {
   "cell_type": "code",
   "execution_count": 116,
   "metadata": {},
   "outputs": [
    {
     "name": "stdout",
     "output_type": "stream",
     "text": [
      "Correlation of market_id to TDD: -0.040637489176712484\n",
      "Correlation of created_at to TDD: 0.03170726796590593\n",
      "Correlation of order_protocol to TDD: -0.0596805739749755\n",
      "Correlation of total_items to TDD: 0.1156719187431689\n",
      "Correlation of subtotal to TDD: 0.1705534115818244\n",
      "Correlation of num_distinct_items to TDD: 0.12734199460556248\n",
      "Correlation of min_item_price to TDD: 0.011397874146431723\n",
      "Correlation of max_item_price to TDD: 0.10703629454011691\n",
      "Correlation of total_onshift_runners to TDD: 0.06919976791637909\n",
      "Correlation of total_busy_runners to TDD: 0.08566350421619037\n",
      "Correlation of total_outstanding_orders to TDD: 0.15785403047962324\n",
      "Correlation of estimated_order_place_duration to TDD: 0.08118412980888919\n",
      "Correlation of estimated_store_to_consumer_driving_duration to TDD: 0.18672186991657688\n",
      "Correlation of total_delivery_duration to TDD: 1.0\n",
      "Correlation of store_id_int to TDD: 0.04025896012881745\n",
      "Correlation of store_primary_category_int to TDD: 0.0019016363801349994\n"
     ]
    }
   ],
   "source": [
    "# Check correlation of other columns to total_delivery_duration\n",
    "\n",
    "import six\n",
    "for i in training_df_4.columns:\n",
    "    if not(isinstance(training_df_4.select(i).take(1)[0][0], six.string_types)):\n",
    "        print(\"Correlation of \" + i + \" to TDD: \" + str(training_df_4.stat.corr('total_delivery_duration',i)))"
   ]
  },
  {
   "cell_type": "code",
   "execution_count": null,
   "metadata": {},
   "outputs": [],
   "source": [
    "# No clear correlation exists between features and target"
   ]
  },
  {
   "cell_type": "code",
   "execution_count": 117,
   "metadata": {},
   "outputs": [],
   "source": [
    "# Drop min_item_price and max_item_price as they are factored into subtotal\n",
    "training_df_4 = training_df_4.drop('min_item_price', 'max_item_price')"
   ]
  },
  {
   "cell_type": "code",
   "execution_count": 118,
   "metadata": {},
   "outputs": [
    {
     "name": "stdout",
     "output_type": "stream",
     "text": [
      "root\n",
      " |-- market_id: integer (nullable = true)\n",
      " |-- created_at: integer (nullable = true)\n",
      " |-- order_protocol: integer (nullable = true)\n",
      " |-- total_items: integer (nullable = true)\n",
      " |-- subtotal: integer (nullable = true)\n",
      " |-- num_distinct_items: integer (nullable = true)\n",
      " |-- total_onshift_runners: integer (nullable = true)\n",
      " |-- total_busy_runners: integer (nullable = true)\n",
      " |-- total_outstanding_orders: integer (nullable = true)\n",
      " |-- estimated_order_place_duration: integer (nullable = true)\n",
      " |-- estimated_store_to_consumer_driving_duration: integer (nullable = true)\n",
      " |-- total_delivery_duration: integer (nullable = true)\n",
      " |-- store_id_int: double (nullable = false)\n",
      " |-- store_primary_category_int: double (nullable = false)\n",
      "\n"
     ]
    }
   ],
   "source": [
    "training_df_4.printSchema()"
   ]
  },
  {
   "cell_type": "code",
   "execution_count": 119,
   "metadata": {},
   "outputs": [],
   "source": [
    "training_df_4.repartition(1).write.csv(CSV_TMP_FILE, header=True)"
   ]
  },
  {
   "cell_type": "code",
   "execution_count": 120,
   "metadata": {},
   "outputs": [],
   "source": [
    "feature_list = training_df_4.columns\n",
    "feature_list.remove('total_delivery_duration')"
   ]
  },
  {
   "cell_type": "code",
   "execution_count": 121,
   "metadata": {},
   "outputs": [],
   "source": [
    "vectorAssembler = VectorAssembler(inputCols = feature_list, outputCol = 'features')\n",
    "vectorized_training_df = vectorAssembler.transform(training_df_4)\n",
    "vectorized_training_df = vectorized_training_df.select(['features', 'total_delivery_duration'])"
   ]
  },
  {
   "cell_type": "code",
   "execution_count": 122,
   "metadata": {},
   "outputs": [],
   "source": [
    "splits = vectorized_training_df.randomSplit([0.7, 0.3])\n",
    "split_input_train_df      = splits[0]\n",
    "split_input_validation_df = splits[1]\n"
   ]
  },
  {
   "cell_type": "code",
   "execution_count": null,
   "metadata": {},
   "outputs": [],
   "source": [
    "''' \n",
    "############################################################################################\n",
    "# We will try multiple models and pick the one with best prediction accuracy (lowest error)#\n",
    "############################################################################################\n",
    "'''"
   ]
  },
  {
   "cell_type": "code",
   "execution_count": 123,
   "metadata": {},
   "outputs": [
    {
     "name": "stdout",
     "output_type": "stream",
     "text": [
      "Linear Regression...\n",
      "RMSE on validation data: 1795.896644\n"
     ]
    }
   ],
   "source": [
    "# LinearRegression\n",
    "\n",
    "print(\"Linear Regression...\")\n",
    "lr = LinearRegression(featuresCol = 'features', labelCol='total_delivery_duration', maxIter=5, regParam=0.3, elasticNetParam=0.8)\n",
    "lr_model = lr.fit(split_input_train_df)\n",
    "\n",
    "# Predict on validation set\n",
    "\n",
    "lr_predictions = lr_model.transform(split_input_validation_df)\n",
    "test_result    = lr_model.evaluate(split_input_validation_df)\n",
    "rmse = test_result.rootMeanSquaredError\n",
    "print(\"RMSE on validation data: %f\" % rmse)\n"
   ]
  },
  {
   "cell_type": "code",
   "execution_count": 128,
   "metadata": {},
   "outputs": [
    {
     "name": "stdout",
     "output_type": "stream",
     "text": [
      "RMSE on validation data = 1898.238355\n"
     ]
    }
   ],
   "source": [
    "# DecisionTree\n",
    "\n",
    "dt_regressor   = DecisionTreeRegressor(featuresCol ='features', labelCol = 'total_delivery_duration', maxBins=5450)\n",
    "dt_model       = dt_regressor.fit(split_input_train_df)\n",
    "\n",
    "# Predict on validation set\n",
    "\n",
    "dt_predictions = dt_model.transform(split_input_validation_df)\n",
    "dt_evaluator   = RegressionEvaluator(labelCol=\"total_delivery_duration\", predictionCol=\"prediction\", metricName=\"rmse\")\n",
    "rmse           = dt_evaluator.evaluate(dt_predictions)\n",
    "print(\"RMSE on validation data = %f\" % rmse)\n"
   ]
  },
  {
   "cell_type": "code",
   "execution_count": 129,
   "metadata": {},
   "outputs": [
    {
     "name": "stdout",
     "output_type": "stream",
     "text": [
      "RMSE on validation data = 1975.730051\n"
     ]
    }
   ],
   "source": [
    "# GradientBoostedTree\n",
    "\n",
    "gbt_regressor   = GBTRegressor(featuresCol='features', labelCol='total_delivery_duration', maxIter=5, maxBins=5450)\n",
    "gbt_model       = gbt_regressor.fit(split_input_train_df)\n",
    "\n",
    "# Predict on validation set\n",
    "\n",
    "gbt_predictions = gbt_model.transform(split_input_validation_df)\n",
    "gbt_evaluator   = RegressionEvaluator(labelCol=\"total_delivery_duration\", predictionCol=\"prediction\", metricName=\"rmse\")\n",
    "rmse            = gbt_evaluator.evaluate(gbt_predictions)\n",
    "print(\"RMSE on validation data = %f\" % rmse)\n"
   ]
  },
  {
   "cell_type": "code",
   "execution_count": 127,
   "metadata": {},
   "outputs": [
    {
     "name": "stdout",
     "output_type": "stream",
     "text": [
      "RMSE on validation data = 1824.092780\n"
     ]
    }
   ],
   "source": [
    "# RandomForestRegressor\n",
    "\n",
    "rf_regressor   = RandomForestRegressor(featuresCol = 'features', labelCol = 'total_delivery_duration', maxBins=5450)\n",
    "rf_model       = rf_regressor.fit(split_input_train_df)\n",
    "\n",
    "# Predict on validation set\n",
    "\n",
    "rf_predictions = rf_model.transform(split_input_validation_df)\n",
    "rf_evaluator   = RegressionEvaluator(labelCol=\"total_delivery_duration\", predictionCol=\"prediction\", metricName=\"rmse\")\n",
    "rmse           = rf_evaluator.evaluate(rf_predictions)\n",
    "print(\"RMSE on validation data = %f\" % rmse)"
   ]
  },
  {
   "cell_type": "code",
   "execution_count": null,
   "metadata": {},
   "outputs": [],
   "source": [
    "# All models are performing more or less the same."
   ]
  },
  {
   "cell_type": "code",
   "execution_count": 130,
   "metadata": {},
   "outputs": [],
   "source": [
    "# Let us use RandomForestRegressor\n",
    "\n",
    "rf_model.save(\"./dd_rf_model\")"
   ]
  },
  {
   "cell_type": "code",
   "execution_count": null,
   "metadata": {},
   "outputs": [],
   "source": [
    "# Now on to actual predictions"
   ]
  },
  {
   "cell_type": "code",
   "execution_count": 131,
   "metadata": {},
   "outputs": [],
   "source": [
    "# Load data to predict\n",
    "predict_df = spark.read.json(JSON_DATA_TO_PREDICT)"
   ]
  },
  {
   "cell_type": "code",
   "execution_count": 132,
   "metadata": {},
   "outputs": [
    {
     "name": "stdout",
     "output_type": "stream",
     "text": [
      "root\n",
      " |-- created_at: string (nullable = true)\n",
      " |-- delivery_id: string (nullable = true)\n",
      " |-- estimated_order_place_duration: string (nullable = true)\n",
      " |-- estimated_store_to_consumer_driving_duration: string (nullable = true)\n",
      " |-- market_id: string (nullable = true)\n",
      " |-- max_item_price: string (nullable = true)\n",
      " |-- min_item_price: string (nullable = true)\n",
      " |-- num_distinct_items: string (nullable = true)\n",
      " |-- order_protocol: string (nullable = true)\n",
      " |-- platform: string (nullable = true)\n",
      " |-- store_id: string (nullable = true)\n",
      " |-- store_primary_category: string (nullable = true)\n",
      " |-- subtotal: string (nullable = true)\n",
      " |-- total_busy_runners: string (nullable = true)\n",
      " |-- total_items: string (nullable = true)\n",
      " |-- total_onshift_runners: string (nullable = true)\n",
      " |-- total_outstanding_orders: string (nullable = true)\n",
      "\n"
     ]
    }
   ],
   "source": [
    "predict_df.printSchema()"
   ]
  },
  {
   "cell_type": "code",
   "execution_count": 133,
   "metadata": {},
   "outputs": [
    {
     "data": {
      "text/html": [
       "<div>\n",
       "<style scoped>\n",
       "    .dataframe tbody tr th:only-of-type {\n",
       "        vertical-align: middle;\n",
       "    }\n",
       "\n",
       "    .dataframe tbody tr th {\n",
       "        vertical-align: top;\n",
       "    }\n",
       "\n",
       "    .dataframe thead th {\n",
       "        text-align: right;\n",
       "    }\n",
       "</style>\n",
       "<table border=\"1\" class=\"dataframe\">\n",
       "  <thead>\n",
       "    <tr style=\"text-align: right;\">\n",
       "      <th></th>\n",
       "      <th>0</th>\n",
       "      <th>1</th>\n",
       "      <th>2</th>\n",
       "      <th>3</th>\n",
       "      <th>4</th>\n",
       "    </tr>\n",
       "  </thead>\n",
       "  <tbody>\n",
       "    <tr>\n",
       "      <th>summary</th>\n",
       "      <td>count</td>\n",
       "      <td>mean</td>\n",
       "      <td>stddev</td>\n",
       "      <td>min</td>\n",
       "      <td>max</td>\n",
       "    </tr>\n",
       "    <tr>\n",
       "      <th>created_at</th>\n",
       "      <td>54778</td>\n",
       "      <td>None</td>\n",
       "      <td>None</td>\n",
       "      <td>2015-02-18 14:50:28</td>\n",
       "      <td>2015-02-25 05:59:49</td>\n",
       "    </tr>\n",
       "    <tr>\n",
       "      <th>delivery_id</th>\n",
       "      <td>54778</td>\n",
       "      <td>None</td>\n",
       "      <td>None</td>\n",
       "      <td>0000300773fe015f870914b42528541b</td>\n",
       "      <td>fffffcc42d1bf7ab742a4fa2d820f9f0</td>\n",
       "    </tr>\n",
       "    <tr>\n",
       "      <th>estimated_order_place_duration</th>\n",
       "      <td>54778</td>\n",
       "      <td>308.11267297090075</td>\n",
       "      <td>88.93788812977652</td>\n",
       "      <td>0</td>\n",
       "      <td>446</td>\n",
       "    </tr>\n",
       "    <tr>\n",
       "      <th>estimated_store_to_consumer_driving_duration</th>\n",
       "      <td>54778</td>\n",
       "      <td>547.7654061752515</td>\n",
       "      <td>220.45971487843556</td>\n",
       "      <td>0</td>\n",
       "      <td>NA</td>\n",
       "    </tr>\n",
       "    <tr>\n",
       "      <th>market_id</th>\n",
       "      <td>54778</td>\n",
       "      <td>3.0313600352112675</td>\n",
       "      <td>1.5316060843815849</td>\n",
       "      <td>1</td>\n",
       "      <td>NA</td>\n",
       "    </tr>\n",
       "    <tr>\n",
       "      <th>max_item_price</th>\n",
       "      <td>54778</td>\n",
       "      <td>1166.7953557997737</td>\n",
       "      <td>574.5947264759789</td>\n",
       "      <td>0</td>\n",
       "      <td>999</td>\n",
       "    </tr>\n",
       "    <tr>\n",
       "      <th>min_item_price</th>\n",
       "      <td>54778</td>\n",
       "      <td>683.7573843513819</td>\n",
       "      <td>538.4969945313895</td>\n",
       "      <td>-30</td>\n",
       "      <td>999</td>\n",
       "    </tr>\n",
       "    <tr>\n",
       "      <th>num_distinct_items</th>\n",
       "      <td>54778</td>\n",
       "      <td>2.6919018584103105</td>\n",
       "      <td>1.6502038175106004</td>\n",
       "      <td>1</td>\n",
       "      <td>9</td>\n",
       "    </tr>\n",
       "    <tr>\n",
       "      <th>order_protocol</th>\n",
       "      <td>54778</td>\n",
       "      <td>2.8850169740343152</td>\n",
       "      <td>1.5120872918297972</td>\n",
       "      <td>1</td>\n",
       "      <td>NA</td>\n",
       "    </tr>\n",
       "    <tr>\n",
       "      <th>platform</th>\n",
       "      <td>54778</td>\n",
       "      <td>None</td>\n",
       "      <td>None</td>\n",
       "      <td>android</td>\n",
       "      <td>other</td>\n",
       "    </tr>\n",
       "    <tr>\n",
       "      <th>store_id</th>\n",
       "      <td>54778</td>\n",
       "      <td>None</td>\n",
       "      <td>None</td>\n",
       "      <td>0004d0b59e19461ff126e3a08a814c33</td>\n",
       "      <td>ffedf5be3a86e2ee281d54cdc97bc1cf</td>\n",
       "    </tr>\n",
       "    <tr>\n",
       "      <th>store_primary_category</th>\n",
       "      <td>54778</td>\n",
       "      <td>None</td>\n",
       "      <td>None</td>\n",
       "      <td>NA</td>\n",
       "      <td>vietnamese</td>\n",
       "    </tr>\n",
       "    <tr>\n",
       "      <th>subtotal</th>\n",
       "      <td>54778</td>\n",
       "      <td>2715.7587717696883</td>\n",
       "      <td>1897.9198078111963</td>\n",
       "      <td>0</td>\n",
       "      <td>9996</td>\n",
       "    </tr>\n",
       "    <tr>\n",
       "      <th>total_busy_runners</th>\n",
       "      <td>54778</td>\n",
       "      <td>43.51520590288165</td>\n",
       "      <td>34.05133875982752</td>\n",
       "      <td>-1</td>\n",
       "      <td>NA</td>\n",
       "    </tr>\n",
       "    <tr>\n",
       "      <th>total_items</th>\n",
       "      <td>54778</td>\n",
       "      <td>3.2277374128299683</td>\n",
       "      <td>2.557472274599663</td>\n",
       "      <td>1</td>\n",
       "      <td>9</td>\n",
       "    </tr>\n",
       "    <tr>\n",
       "      <th>total_onshift_runners</th>\n",
       "      <td>54778</td>\n",
       "      <td>49.076179080666066</td>\n",
       "      <td>37.59471367000894</td>\n",
       "      <td>-1</td>\n",
       "      <td>NA</td>\n",
       "    </tr>\n",
       "    <tr>\n",
       "      <th>total_outstanding_orders</th>\n",
       "      <td>54778</td>\n",
       "      <td>62.566756406421376</td>\n",
       "      <td>56.37895287282945</td>\n",
       "      <td>-1</td>\n",
       "      <td>NA</td>\n",
       "    </tr>\n",
       "  </tbody>\n",
       "</table>\n",
       "</div>"
      ],
      "text/plain": [
       "                                                  0                   1  \\\n",
       "summary                                       count                mean   \n",
       "created_at                                    54778                None   \n",
       "delivery_id                                   54778                None   \n",
       "estimated_order_place_duration                54778  308.11267297090075   \n",
       "estimated_store_to_consumer_driving_duration  54778   547.7654061752515   \n",
       "market_id                                     54778  3.0313600352112675   \n",
       "max_item_price                                54778  1166.7953557997737   \n",
       "min_item_price                                54778   683.7573843513819   \n",
       "num_distinct_items                            54778  2.6919018584103105   \n",
       "order_protocol                                54778  2.8850169740343152   \n",
       "platform                                      54778                None   \n",
       "store_id                                      54778                None   \n",
       "store_primary_category                        54778                None   \n",
       "subtotal                                      54778  2715.7587717696883   \n",
       "total_busy_runners                            54778   43.51520590288165   \n",
       "total_items                                   54778  3.2277374128299683   \n",
       "total_onshift_runners                         54778  49.076179080666066   \n",
       "total_outstanding_orders                      54778  62.566756406421376   \n",
       "\n",
       "                                                               2  \\\n",
       "summary                                                   stddev   \n",
       "created_at                                                  None   \n",
       "delivery_id                                                 None   \n",
       "estimated_order_place_duration                 88.93788812977652   \n",
       "estimated_store_to_consumer_driving_duration  220.45971487843556   \n",
       "market_id                                     1.5316060843815849   \n",
       "max_item_price                                 574.5947264759789   \n",
       "min_item_price                                 538.4969945313895   \n",
       "num_distinct_items                            1.6502038175106004   \n",
       "order_protocol                                1.5120872918297972   \n",
       "platform                                                    None   \n",
       "store_id                                                    None   \n",
       "store_primary_category                                      None   \n",
       "subtotal                                      1897.9198078111963   \n",
       "total_busy_runners                             34.05133875982752   \n",
       "total_items                                    2.557472274599663   \n",
       "total_onshift_runners                          37.59471367000894   \n",
       "total_outstanding_orders                       56.37895287282945   \n",
       "\n",
       "                                                                             3  \\\n",
       "summary                                                                    min   \n",
       "created_at                                                 2015-02-18 14:50:28   \n",
       "delivery_id                                   0000300773fe015f870914b42528541b   \n",
       "estimated_order_place_duration                                               0   \n",
       "estimated_store_to_consumer_driving_duration                                 0   \n",
       "market_id                                                                    1   \n",
       "max_item_price                                                               0   \n",
       "min_item_price                                                             -30   \n",
       "num_distinct_items                                                           1   \n",
       "order_protocol                                                               1   \n",
       "platform                                                               android   \n",
       "store_id                                      0004d0b59e19461ff126e3a08a814c33   \n",
       "store_primary_category                                                      NA   \n",
       "subtotal                                                                     0   \n",
       "total_busy_runners                                                          -1   \n",
       "total_items                                                                  1   \n",
       "total_onshift_runners                                                       -1   \n",
       "total_outstanding_orders                                                    -1   \n",
       "\n",
       "                                                                             4  \n",
       "summary                                                                    max  \n",
       "created_at                                                 2015-02-25 05:59:49  \n",
       "delivery_id                                   fffffcc42d1bf7ab742a4fa2d820f9f0  \n",
       "estimated_order_place_duration                                             446  \n",
       "estimated_store_to_consumer_driving_duration                                NA  \n",
       "market_id                                                                   NA  \n",
       "max_item_price                                                             999  \n",
       "min_item_price                                                             999  \n",
       "num_distinct_items                                                           9  \n",
       "order_protocol                                                              NA  \n",
       "platform                                                                 other  \n",
       "store_id                                      ffedf5be3a86e2ee281d54cdc97bc1cf  \n",
       "store_primary_category                                              vietnamese  \n",
       "subtotal                                                                  9996  \n",
       "total_busy_runners                                                          NA  \n",
       "total_items                                                                  9  \n",
       "total_onshift_runners                                                       NA  \n",
       "total_outstanding_orders                                                    NA  "
      ]
     },
     "execution_count": 133,
     "metadata": {},
     "output_type": "execute_result"
    }
   ],
   "source": [
    "predict_df.describe().toPandas().transpose()"
   ]
  },
  {
   "cell_type": "code",
   "execution_count": null,
   "metadata": {},
   "outputs": [],
   "source": [
    "# Apply same process as historical data to convert/map"
   ]
  },
  {
   "cell_type": "code",
   "execution_count": 134,
   "metadata": {},
   "outputs": [],
   "source": [
    "# Drop rows with NA columns\n",
    "predict_df_1 = predict_df.dropna()"
   ]
  },
  {
   "cell_type": "code",
   "execution_count": 135,
   "metadata": {},
   "outputs": [],
   "source": [
    "# Drop rows with subtotal=0\n",
    "predict_df_2 = predict_df_1[(predict_df_1.subtotal>0)]"
   ]
  },
  {
   "cell_type": "code",
   "execution_count": 136,
   "metadata": {},
   "outputs": [],
   "source": [
    "# Drop rows where min_item_price is -ve\n",
    "predict_df_2 = predict_df_2[(predict_df_2.min_item_price>0)]"
   ]
  },
  {
   "cell_type": "code",
   "execution_count": 137,
   "metadata": {},
   "outputs": [],
   "source": [
    "# Drop rows where max_item_price is 0, assuming spoons and forks are not part of the order\n",
    "predict_df_2 = predict_df_2[(predict_df_2.max_item_price>0)]"
   ]
  },
  {
   "cell_type": "code",
   "execution_count": 138,
   "metadata": {},
   "outputs": [],
   "source": [
    "# Drop rows where total_onshift_runners is -ve\n",
    "predict_df_2 = predict_df_2[(predict_df_2.total_onshift_runners>0)]"
   ]
  },
  {
   "cell_type": "code",
   "execution_count": 139,
   "metadata": {},
   "outputs": [],
   "source": [
    "# Drop rows where total_busy_runners is -ve\n",
    "predict_df_2 = predict_df_2[(predict_df_2.total_busy_runners>0)]"
   ]
  },
  {
   "cell_type": "code",
   "execution_count": 140,
   "metadata": {},
   "outputs": [],
   "source": [
    "# Drop rows where total_outstanding_orders is -ve\n",
    "predict_df_2 = predict_df_2[(predict_df_2.total_outstanding_orders>0)]"
   ]
  },
  {
   "cell_type": "code",
   "execution_count": 141,
   "metadata": {},
   "outputs": [],
   "source": [
    "# Drop rows where estimated_order_place_duration is 0 - is not practical\n",
    "predict_df_2 = predict_df_2[(predict_df_2.estimated_order_place_duration>0)]"
   ]
  },
  {
   "cell_type": "code",
   "execution_count": 143,
   "metadata": {},
   "outputs": [],
   "source": [
    "# Drop rows where estimated_store_to_consumer_driving_duration is 0 - is not practical\n",
    "predict_df_2 = predict_df_2[(predict_df_2.estimated_store_to_consumer_driving_duration>0)]"
   ]
  },
  {
   "cell_type": "code",
   "execution_count": 185,
   "metadata": {},
   "outputs": [],
   "source": [
    "# Drop rows with \"NA\" strings in columns\n",
    "predict_df_3 = predict_df_2[(predict_df_2.market_id != \"NA\") & \n",
    "                             (predict_df_2.store_primary_category != \"NA\") &\n",
    "                             (predict_df_2.order_protocol != \"NA\")]"
   ]
  },
  {
   "cell_type": "code",
   "execution_count": 186,
   "metadata": {},
   "outputs": [],
   "source": [
    "def rdd_datetimesec_to_sec(input_time):\n",
    "    return int(mktime(strptime(input_time, \"%Y-%m-%d %H:%M:%S\")))\n",
    "\n",
    "udf_rdd_datetimesec_to_sec = fn.udf(rdd_datetimesec_to_sec, IntegerType())  # LongType() not available for now"
   ]
  },
  {
   "cell_type": "code",
   "execution_count": 187,
   "metadata": {},
   "outputs": [],
   "source": [
    "predict_df_3 = predict_df_3.withColumn('created_at',\n",
    "                                        udf_rdd_datetimesec_to_sec(fn.col('created_at')))\n"
   ]
  },
  {
   "cell_type": "code",
   "execution_count": 188,
   "metadata": {},
   "outputs": [
    {
     "name": "stdout",
     "output_type": "stream",
     "text": [
      "+----------+--------------------+------------------------------+--------------------------------------------+---------+--------------+--------------+------------------+--------------+--------+--------------------+----------------------+--------+------------------+-----------+---------------------+------------------------+\n",
      "|created_at|         delivery_id|estimated_order_place_duration|estimated_store_to_consumer_driving_duration|market_id|max_item_price|min_item_price|num_distinct_items|order_protocol|platform|            store_id|store_primary_category|subtotal|total_busy_runners|total_items|total_onshift_runners|total_outstanding_orders|\n",
      "+----------+--------------------+------------------------------+--------------------------------------------+---------+--------------+--------------+------------------+--------------+--------+--------------------+----------------------+--------+------------------+-----------+---------------------+------------------------+\n",
      "|1424600864|3b04e68c88349a776...|                           446|                                         504|        4|          1500|           750|                 2|             1|   other|f0ade77b43923b382...|                  thai|    4500|                 7|          4|                    9|                       6|\n",
      "|1424784045|cffcd18445407b802...|                           446|                                         528|        1|          1625|          1525|                 2|             1| android|ef1e491a766ce3127...|               italian|    3150|                 4|          2|                    4|                       4|\n",
      "+----------+--------------------+------------------------------+--------------------------------------------+---------+--------------+--------------+------------------+--------------+--------+--------------------+----------------------+--------+------------------+-----------+---------------------+------------------------+\n",
      "only showing top 2 rows\n",
      "\n"
     ]
    }
   ],
   "source": [
    "predict_df_3.show(2)"
   ]
  },
  {
   "cell_type": "code",
   "execution_count": 189,
   "metadata": {},
   "outputs": [],
   "source": [
    "# Map store_id string to unique number\n",
    "stringindexer = StringIndexer().setInputCol(\"store_id\").setOutputCol(\"store_id_int\")\n",
    "modelc = stringindexer.fit(predict_df_3)\n",
    "predict_df_4 = modelc.transform(predict_df_3)"
   ]
  },
  {
   "cell_type": "code",
   "execution_count": 190,
   "metadata": {},
   "outputs": [],
   "source": [
    "# Map store_primary_category to unique number\n",
    "stringindexer = StringIndexer().setInputCol(\"store_primary_category\").setOutputCol(\"store_primary_category_int\")\n",
    "modelc = stringindexer.fit(predict_df_4)\n",
    "predict_df_4 = modelc.transform(predict_df_4)"
   ]
  },
  {
   "cell_type": "code",
   "execution_count": 191,
   "metadata": {
    "scrolled": false
   },
   "outputs": [
    {
     "name": "stdout",
     "output_type": "stream",
     "text": [
      "root\n",
      " |-- created_at: integer (nullable = true)\n",
      " |-- delivery_id: string (nullable = true)\n",
      " |-- estimated_order_place_duration: string (nullable = true)\n",
      " |-- estimated_store_to_consumer_driving_duration: integer (nullable = true)\n",
      " |-- market_id: integer (nullable = true)\n",
      " |-- max_item_price: string (nullable = true)\n",
      " |-- min_item_price: string (nullable = true)\n",
      " |-- num_distinct_items: string (nullable = true)\n",
      " |-- order_protocol: integer (nullable = true)\n",
      " |-- platform: string (nullable = true)\n",
      " |-- store_id: string (nullable = true)\n",
      " |-- store_primary_category: string (nullable = true)\n",
      " |-- subtotal: string (nullable = true)\n",
      " |-- total_busy_runners: integer (nullable = true)\n",
      " |-- total_items: string (nullable = true)\n",
      " |-- total_onshift_runners: integer (nullable = true)\n",
      " |-- total_outstanding_orders: integer (nullable = true)\n",
      " |-- store_id_int: double (nullable = false)\n",
      " |-- store_primary_category_int: double (nullable = false)\n",
      "\n"
     ]
    }
   ],
   "source": [
    "predict_df_4 = predict_df_4.withColumn(\"market_id\", predict_df_4[\"market_id\"].cast(IntegerType()))\n",
    "predict_df_4 = predict_df_4.withColumn(\"order_protocol\", predict_df_4[\"order_protocol\"].cast(IntegerType()))\n",
    "\n",
    "predict_df_4 = predict_df_4.withColumn(\"total_onshift_runners\", predict_df_4[\"total_onshift_runners\"].cast(IntegerType()))\n",
    "predict_df_4 = predict_df_4.withColumn(\"total_busy_runners\", predict_df_4[\"total_busy_runners\"].cast(IntegerType()))\n",
    "\n",
    "predict_df_4 = predict_df_4.withColumn(\"total_outstanding_orders\", predict_df_4[\"total_outstanding_orders\"].cast(IntegerType()))\n",
    "predict_df_4 = predict_df_4.withColumn(\"estimated_store_to_consumer_driving_duration\", predict_df_4[\"estimated_store_to_consumer_driving_duration\"].cast(IntegerType()))\n",
    "\n",
    "predict_df_4.printSchema()"
   ]
  },
  {
   "cell_type": "code",
   "execution_count": 192,
   "metadata": {},
   "outputs": [],
   "source": [
    "# Drop string columns as we created respective columns with numerical values\n",
    "# Drop min_item_price and max_item_price as they are factored into subtotal\n",
    "\n",
    "predict_df_4 = predict_df_4.drop('store_id', 'store_primary_category', 'min_item_price', 'max_item_price')"
   ]
  },
  {
   "cell_type": "code",
   "execution_count": 193,
   "metadata": {},
   "outputs": [],
   "source": [
    "predict_df_4 = predict_df_4.withColumn(\"subtotal\", predict_df_4[\"subtotal\"].cast(IntegerType()))\n",
    "predict_df_4 = predict_df_4.withColumn(\"num_distinct_items\", predict_df_4[\"num_distinct_items\"].cast(IntegerType()))\n",
    "predict_df_4 = predict_df_4.withColumn(\"estimated_order_place_duration\", predict_df_4[\"estimated_order_place_duration\"].cast(IntegerType()))"
   ]
  },
  {
   "cell_type": "code",
   "execution_count": 194,
   "metadata": {},
   "outputs": [],
   "source": [
    "predict_df_4 = predict_df_4.withColumn(\"total_items\", predict_df_4[\"total_items\"].cast(IntegerType()))"
   ]
  },
  {
   "cell_type": "code",
   "execution_count": 195,
   "metadata": {},
   "outputs": [
    {
     "data": {
      "text/html": [
       "<div>\n",
       "<style scoped>\n",
       "    .dataframe tbody tr th:only-of-type {\n",
       "        vertical-align: middle;\n",
       "    }\n",
       "\n",
       "    .dataframe tbody tr th {\n",
       "        vertical-align: top;\n",
       "    }\n",
       "\n",
       "    .dataframe thead th {\n",
       "        text-align: right;\n",
       "    }\n",
       "</style>\n",
       "<table border=\"1\" class=\"dataframe\">\n",
       "  <thead>\n",
       "    <tr style=\"text-align: right;\">\n",
       "      <th></th>\n",
       "      <th>0</th>\n",
       "      <th>1</th>\n",
       "      <th>2</th>\n",
       "      <th>3</th>\n",
       "      <th>4</th>\n",
       "    </tr>\n",
       "  </thead>\n",
       "  <tbody>\n",
       "    <tr>\n",
       "      <th>summary</th>\n",
       "      <td>count</td>\n",
       "      <td>mean</td>\n",
       "      <td>stddev</td>\n",
       "      <td>min</td>\n",
       "      <td>max</td>\n",
       "    </tr>\n",
       "    <tr>\n",
       "      <th>created_at</th>\n",
       "      <td>46945</td>\n",
       "      <td>1.4245901166887422E9</td>\n",
       "      <td>162509.80336319067</td>\n",
       "      <td>1424302170</td>\n",
       "      <td>1424872789</td>\n",
       "    </tr>\n",
       "    <tr>\n",
       "      <th>delivery_id</th>\n",
       "      <td>46945</td>\n",
       "      <td>None</td>\n",
       "      <td>None</td>\n",
       "      <td>0000300773fe015f870914b42528541b</td>\n",
       "      <td>fffeab713c91634ae0fd5b1b91f8d72c</td>\n",
       "    </tr>\n",
       "    <tr>\n",
       "      <th>estimated_order_place_duration</th>\n",
       "      <td>46945</td>\n",
       "      <td>306.3789540952178</td>\n",
       "      <td>88.00053913282085</td>\n",
       "      <td>212</td>\n",
       "      <td>1095</td>\n",
       "    </tr>\n",
       "    <tr>\n",
       "      <th>estimated_store_to_consumer_driving_duration</th>\n",
       "      <td>46945</td>\n",
       "      <td>549.1419320481415</td>\n",
       "      <td>218.89783374010833</td>\n",
       "      <td>3</td>\n",
       "      <td>1550</td>\n",
       "    </tr>\n",
       "    <tr>\n",
       "      <th>market_id</th>\n",
       "      <td>46945</td>\n",
       "      <td>2.8158909362019386</td>\n",
       "      <td>1.3382430164957273</td>\n",
       "      <td>1</td>\n",
       "      <td>6</td>\n",
       "    </tr>\n",
       "    <tr>\n",
       "      <th>num_distinct_items</th>\n",
       "      <td>46945</td>\n",
       "      <td>2.665587389498349</td>\n",
       "      <td>1.6271062619174674</td>\n",
       "      <td>1</td>\n",
       "      <td>19</td>\n",
       "    </tr>\n",
       "    <tr>\n",
       "      <th>order_protocol</th>\n",
       "      <td>46945</td>\n",
       "      <td>2.9120673128128662</td>\n",
       "      <td>1.5166440105620012</td>\n",
       "      <td>1</td>\n",
       "      <td>7</td>\n",
       "    </tr>\n",
       "    <tr>\n",
       "      <th>platform</th>\n",
       "      <td>46945</td>\n",
       "      <td>None</td>\n",
       "      <td>None</td>\n",
       "      <td>android</td>\n",
       "      <td>other</td>\n",
       "    </tr>\n",
       "    <tr>\n",
       "      <th>subtotal</th>\n",
       "      <td>46945</td>\n",
       "      <td>2738.385195441474</td>\n",
       "      <td>1902.9686622701602</td>\n",
       "      <td>5</td>\n",
       "      <td>29925</td>\n",
       "    </tr>\n",
       "    <tr>\n",
       "      <th>total_busy_runners</th>\n",
       "      <td>46945</td>\n",
       "      <td>44.60856321226968</td>\n",
       "      <td>33.76877868770298</td>\n",
       "      <td>1</td>\n",
       "      <td>169</td>\n",
       "    </tr>\n",
       "    <tr>\n",
       "      <th>total_items</th>\n",
       "      <td>46945</td>\n",
       "      <td>3.1431675364788583</td>\n",
       "      <td>2.2601112038915967</td>\n",
       "      <td>1</td>\n",
       "      <td>47</td>\n",
       "    </tr>\n",
       "    <tr>\n",
       "      <th>total_onshift_runners</th>\n",
       "      <td>46945</td>\n",
       "      <td>50.300628394930236</td>\n",
       "      <td>37.260831904675626</td>\n",
       "      <td>1</td>\n",
       "      <td>175</td>\n",
       "    </tr>\n",
       "    <tr>\n",
       "      <th>total_outstanding_orders</th>\n",
       "      <td>46945</td>\n",
       "      <td>64.15948450314197</td>\n",
       "      <td>56.197443245896025</td>\n",
       "      <td>1</td>\n",
       "      <td>292</td>\n",
       "    </tr>\n",
       "    <tr>\n",
       "      <th>store_id_int</th>\n",
       "      <td>46945</td>\n",
       "      <td>839.8366599211844</td>\n",
       "      <td>955.5546436095353</td>\n",
       "      <td>0.0</td>\n",
       "      <td>4539.0</td>\n",
       "    </tr>\n",
       "    <tr>\n",
       "      <th>store_primary_category_int</th>\n",
       "      <td>46945</td>\n",
       "      <td>9.80504846096496</td>\n",
       "      <td>9.99028349897037</td>\n",
       "      <td>0.0</td>\n",
       "      <td>69.0</td>\n",
       "    </tr>\n",
       "  </tbody>\n",
       "</table>\n",
       "</div>"
      ],
      "text/plain": [
       "                                                  0                     1  \\\n",
       "summary                                       count                  mean   \n",
       "created_at                                    46945  1.4245901166887422E9   \n",
       "delivery_id                                   46945                  None   \n",
       "estimated_order_place_duration                46945     306.3789540952178   \n",
       "estimated_store_to_consumer_driving_duration  46945     549.1419320481415   \n",
       "market_id                                     46945    2.8158909362019386   \n",
       "num_distinct_items                            46945     2.665587389498349   \n",
       "order_protocol                                46945    2.9120673128128662   \n",
       "platform                                      46945                  None   \n",
       "subtotal                                      46945     2738.385195441474   \n",
       "total_busy_runners                            46945     44.60856321226968   \n",
       "total_items                                   46945    3.1431675364788583   \n",
       "total_onshift_runners                         46945    50.300628394930236   \n",
       "total_outstanding_orders                      46945     64.15948450314197   \n",
       "store_id_int                                  46945     839.8366599211844   \n",
       "store_primary_category_int                    46945      9.80504846096496   \n",
       "\n",
       "                                                               2  \\\n",
       "summary                                                   stddev   \n",
       "created_at                                    162509.80336319067   \n",
       "delivery_id                                                 None   \n",
       "estimated_order_place_duration                 88.00053913282085   \n",
       "estimated_store_to_consumer_driving_duration  218.89783374010833   \n",
       "market_id                                     1.3382430164957273   \n",
       "num_distinct_items                            1.6271062619174674   \n",
       "order_protocol                                1.5166440105620012   \n",
       "platform                                                    None   \n",
       "subtotal                                      1902.9686622701602   \n",
       "total_busy_runners                             33.76877868770298   \n",
       "total_items                                   2.2601112038915967   \n",
       "total_onshift_runners                         37.260831904675626   \n",
       "total_outstanding_orders                      56.197443245896025   \n",
       "store_id_int                                   955.5546436095353   \n",
       "store_primary_category_int                      9.99028349897037   \n",
       "\n",
       "                                                                             3  \\\n",
       "summary                                                                    min   \n",
       "created_at                                                          1424302170   \n",
       "delivery_id                                   0000300773fe015f870914b42528541b   \n",
       "estimated_order_place_duration                                             212   \n",
       "estimated_store_to_consumer_driving_duration                                 3   \n",
       "market_id                                                                    1   \n",
       "num_distinct_items                                                           1   \n",
       "order_protocol                                                               1   \n",
       "platform                                                               android   \n",
       "subtotal                                                                     5   \n",
       "total_busy_runners                                                           1   \n",
       "total_items                                                                  1   \n",
       "total_onshift_runners                                                        1   \n",
       "total_outstanding_orders                                                     1   \n",
       "store_id_int                                                               0.0   \n",
       "store_primary_category_int                                                 0.0   \n",
       "\n",
       "                                                                             4  \n",
       "summary                                                                    max  \n",
       "created_at                                                          1424872789  \n",
       "delivery_id                                   fffeab713c91634ae0fd5b1b91f8d72c  \n",
       "estimated_order_place_duration                                            1095  \n",
       "estimated_store_to_consumer_driving_duration                              1550  \n",
       "market_id                                                                    6  \n",
       "num_distinct_items                                                          19  \n",
       "order_protocol                                                               7  \n",
       "platform                                                                 other  \n",
       "subtotal                                                                 29925  \n",
       "total_busy_runners                                                         169  \n",
       "total_items                                                                 47  \n",
       "total_onshift_runners                                                      175  \n",
       "total_outstanding_orders                                                   292  \n",
       "store_id_int                                                            4539.0  \n",
       "store_primary_category_int                                                69.0  "
      ]
     },
     "execution_count": 195,
     "metadata": {},
     "output_type": "execute_result"
    }
   ],
   "source": [
    "predict_df_4.describe().toPandas().transpose()"
   ]
  },
  {
   "cell_type": "code",
   "execution_count": 196,
   "metadata": {},
   "outputs": [],
   "source": [
    "# Use same features as in historical data\n",
    "\n",
    "pvectorAssembler = VectorAssembler(inputCols = feature_list, outputCol = 'features')\n",
    "vectorized_predict_df = pvectorAssembler.transform(predict_df_4)\n",
    "vectorized_predict_df = vectorized_predict_df.select(['features'])"
   ]
  },
  {
   "cell_type": "code",
   "execution_count": 197,
   "metadata": {},
   "outputs": [],
   "source": [
    "model_predictions = rf_model.transform(vectorized_predict_df)\n"
   ]
  },
  {
   "cell_type": "code",
   "execution_count": 200,
   "metadata": {},
   "outputs": [
    {
     "data": {
      "text/plain": [
       "['market_id',\n",
       " 'created_at',\n",
       " 'order_protocol',\n",
       " 'total_items',\n",
       " 'subtotal',\n",
       " 'num_distinct_items',\n",
       " 'total_onshift_runners',\n",
       " 'total_busy_runners',\n",
       " 'total_outstanding_orders',\n",
       " 'estimated_order_place_duration',\n",
       " 'estimated_store_to_consumer_driving_duration',\n",
       " 'store_id_int',\n",
       " 'store_primary_category_int']"
      ]
     },
     "execution_count": 200,
     "metadata": {},
     "output_type": "execute_result"
    }
   ],
   "source": [
    "feature_list"
   ]
  },
  {
   "cell_type": "code",
   "execution_count": 199,
   "metadata": {},
   "outputs": [
    {
     "name": "stdout",
     "output_type": "stream",
     "text": [
      "+-----------------------------------------------------------------------------+------------------+\n",
      "|features                                                                     |prediction        |\n",
      "+-----------------------------------------------------------------------------+------------------+\n",
      "|[4.0,1.424600864E9,1.0,4.0,4500.0,2.0,9.0,7.0,6.0,446.0,504.0,4029.0,8.0]    |3465.0249460172577|\n",
      "|[1.0,1.424784045E9,1.0,2.0,3150.0,2.0,4.0,4.0,4.0,446.0,528.0,3101.0,11.0]   |3357.190960044998 |\n",
      "|[1.0,1.424598221E9,1.0,3.0,6815.0,3.0,5.0,3.0,3.0,446.0,837.0,3101.0,11.0]   |3649.212464795469 |\n",
      "|[1.0,1.424750963E9,1.0,2.0,850.0,2.0,11.0,11.0,16.0,446.0,698.0,3866.0,2.0]  |4903.903967341965 |\n",
      "|[1.0,1.424613443E9,1.0,1.0,1700.0,1.0,11.0,10.0,10.0,446.0,502.0,2737.0,11.0]|4933.500536249489 |\n",
      "|[1.0,1.424866799E9,1.0,1.0,2179.0,1.0,20.0,24.0,28.0,446.0,54.0,2737.0,11.0] |4820.148417630822 |\n",
      "|[1.0,1.424600672E9,1.0,1.0,1800.0,1.0,26.0,26.0,20.0,446.0,54.0,2737.0,11.0] |4820.148417630822 |\n",
      "|[3.0,1.424349874E9,5.0,1.0,1500.0,1.0,15.0,14.0,10.0,251.0,87.0,1287.0,0.0]  |3020.21441861829  |\n",
      "|[3.0,1.424494238E9,5.0,3.0,3900.0,2.0,26.0,21.0,20.0,251.0,337.0,1287.0,0.0] |3227.306399728086 |\n",
      "|[3.0,1.424339606E9,5.0,3.0,4300.0,3.0,28.0,24.0,21.0,251.0,662.0,1287.0,0.0] |3680.485142012863 |\n",
      "|[3.0,1.424613147E9,5.0,4.0,4200.0,4.0,12.0,12.0,13.0,251.0,739.0,1287.0,0.0] |3607.851322448472 |\n",
      "|[3.0,1.424340386E9,5.0,3.0,3300.0,3.0,30.0,30.0,30.0,251.0,272.0,1287.0,0.0] |3195.142697285199 |\n",
      "|[3.0,1.424603237E9,5.0,1.0,1800.0,1.0,37.0,32.0,31.0,251.0,466.0,1287.0,0.0] |3108.0000648227983|\n",
      "|[3.0,1.424407637E9,5.0,1.0,2000.0,1.0,23.0,23.0,22.0,251.0,466.0,1287.0,0.0] |3108.0000648227983|\n",
      "|[3.0,1.424322036E9,5.0,2.0,3000.0,1.0,22.0,22.0,26.0,251.0,450.0,1287.0,0.0] |3075.9318107029967|\n",
      "|[4.0,1.424340458E9,3.0,1.0,1800.0,1.0,30.0,30.0,30.0,251.0,466.0,1287.0,5.0] |3108.0000648227983|\n",
      "|[3.0,1.424859628E9,5.0,5.0,4800.0,5.0,30.0,30.0,36.0,251.0,359.0,1287.0,0.0] |3153.0821312938883|\n",
      "|[3.0,1.424597904E9,4.0,4.0,3180.0,4.0,22.0,17.0,17.0,446.0,765.0,3909.0,5.0] |6269.553323307969 |\n",
      "|[3.0,1.424683097E9,1.0,3.0,2596.0,2.0,44.0,36.0,40.0,446.0,390.0,2417.0,2.0] |2861.760659733364 |\n",
      "|[3.0,1.424863598E9,1.0,4.0,3359.0,4.0,40.0,40.0,42.0,446.0,517.0,2417.0,2.0] |3394.608432299832 |\n",
      "+-----------------------------------------------------------------------------+------------------+\n",
      "only showing top 20 rows\n",
      "\n"
     ]
    }
   ],
   "source": [
    "model_predictions.show(20, False)"
   ]
  },
  {
   "cell_type": "code",
   "execution_count": 201,
   "metadata": {},
   "outputs": [
    {
     "data": {
      "text/plain": [
       "46945"
      ]
     },
     "execution_count": 201,
     "metadata": {},
     "output_type": "execute_result"
    }
   ],
   "source": [
    "predict_df_4.count()"
   ]
  },
  {
   "cell_type": "code",
   "execution_count": 202,
   "metadata": {},
   "outputs": [
    {
     "data": {
      "text/plain": [
       "46945"
      ]
     },
     "execution_count": 202,
     "metadata": {},
     "output_type": "execute_result"
    }
   ],
   "source": [
    "model_predictions.count()"
   ]
  },
  {
   "cell_type": "code",
   "execution_count": 230,
   "metadata": {},
   "outputs": [
    {
     "name": "stdout",
     "output_type": "stream",
     "text": [
      "+--------------------------------+--------------------------+\n",
      "|delivery_id                     |predicted_delivery_seconds|\n",
      "+--------------------------------+--------------------------+\n",
      "|3b04e68c88349a776013fcae3bc5aea6|3465.0249460172577        |\n",
      "|cffcd18445407b8027ed4484ff46726c|3357.190960044998         |\n",
      "|9d65036171bc0463ebb48bf125ac5cbf|3649.212464795469         |\n",
      "|bebd60f139989879bd86c6047babce83|4903.903967341965         |\n",
      "|89bca4b8fbabcbfd0cbf07fb7c6271cc|4933.500536249489         |\n",
      "|4061b453014cf028b2213145a460753c|4820.148417630822         |\n",
      "|d71ac2be630dbd0d88ef0a9e3a559329|4820.148417630822         |\n",
      "|4af2232da5619ef3fd923ff8346ee804|3020.21441861829          |\n",
      "|27fb5c0a87e11d6a7ba573109cfe743f|3227.306399728086         |\n",
      "|0a5116feb4f6b2be8356b78022adfc9e|3680.485142012863         |\n",
      "|b9978bc9d8d3383f7c0287eeeaa66838|3607.851322448472         |\n",
      "|ad825b60391a15fc86e44af29ffc1a4a|3195.142697285199         |\n",
      "|777e747d8029109c521c793884d3e300|3108.0000648227983        |\n",
      "|1f633306521571063183b642aa2f42e2|3108.0000648227983        |\n",
      "|766a5053b52da822ac41d255235219ec|3075.9318107029967        |\n",
      "|99333984ed3b0b4cb40921967b17e55c|3108.0000648227983        |\n",
      "|e97b08538d56e55661a82c9e272d52b5|3153.0821312938883        |\n",
      "|5c2481a9d62cdaab6b540f88bf0579b6|6269.553323307969         |\n",
      "|3a0dfaef43fa4a1109abf9bff07f866d|2861.760659733364         |\n",
      "|783078cef92c6b9c14fd20b336ec0df8|3394.608432299832         |\n",
      "+--------------------------------+--------------------------+\n",
      "only showing top 20 rows\n",
      "\n"
     ]
    }
   ],
   "source": [
    "from pyspark.sql.functions import monotonically_increasing_id\n",
    "\n",
    "df1 = predict_df_4.select('delivery_id').withColumn(\"id\", monotonically_increasing_id())\n",
    "df2 = model_predictions.select('prediction').withColumnRenamed('prediction', 'predicted_delivery_seconds').withColumn(\"id\", monotonically_increasing_id())\n",
    "\n",
    "# Perform a join on the ids.\n",
    "prediction_results_df = df1.join(df2, \"id\", \"left\").drop(\"id\")\n",
    "prediction_results_df = prediction_results_df.withColumn(\"predicted_delivery_seconds\", prediction_results_df[\"predicted_delivery_seconds\"].cast(IntegerType()))\n",
    "\n",
    "prediction_results_df.show(20, False)"
   ]
  },
  {
   "cell_type": "code",
   "execution_count": 233,
   "metadata": {},
   "outputs": [],
   "source": [
    "# Save results to file\n",
    "prediction_results_df.repartition(1).write.format('csv').options(delimiter='\\t').save('./prediction_results')"
   ]
  },
  {
   "cell_type": "code",
   "execution_count": null,
   "metadata": {},
   "outputs": [],
   "source": []
  }
 ],
 "metadata": {
  "kernelspec": {
   "display_name": "Python 3",
   "language": "python",
   "name": "python3"
  },
  "language_info": {
   "codemirror_mode": {
    "name": "ipython",
    "version": 3
   },
   "file_extension": ".py",
   "mimetype": "text/x-python",
   "name": "python",
   "nbconvert_exporter": "python",
   "pygments_lexer": "ipython3",
   "version": "3.6.4"
  }
 },
 "nbformat": 4,
 "nbformat_minor": 2
}
