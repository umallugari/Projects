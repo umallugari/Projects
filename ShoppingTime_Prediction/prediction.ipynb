{
 "cells": [
  {
   "cell_type": "code",
   "execution_count": 1,
   "metadata": {},
   "outputs": [],
   "source": [
    "# Python-3\n",
    "# spark-submit --num-executors 5 --driver-memory 6g\n",
    "\n",
    "from   pyspark     import SparkContext\n",
    "from   pyspark.sql import SQLContext\n",
    "from   time        import mktime, strptime\n",
    "import pyspark.sql.functions as fn\n",
    "from   pyspark.sql.types     import IntegerType\n",
    "from   pyspark.ml.feature    import VectorAssembler\n",
    "from   pyspark.ml.feature import StringIndexer\n",
    "from   pyspark.ml.regression import RandomForestRegressionModel\n",
    "from   pyspark.sql.functions import monotonically_increasing_id\n",
    "\n",
    "#import json\n",
    "#import csv"
   ]
  },
  {
   "cell_type": "code",
   "execution_count": 2,
   "metadata": {},
   "outputs": [],
   "source": [
    "JSON_DATA_TO_PREDICT = \"./data_to_predict.json\""
   ]
  },
  {
   "cell_type": "code",
   "execution_count": 3,
   "metadata": {},
   "outputs": [],
   "source": [
    "feature_list = [\n",
    " 'market_id',\n",
    " 'created_at',\n",
    " 'order_protocol',\n",
    " 'total_items',\n",
    " 'subtotal',\n",
    " 'num_distinct_items',\n",
    " 'total_onshift_runners',\n",
    " 'total_busy_runners',\n",
    " 'total_outstanding_orders',\n",
    " 'estimated_order_place_duration',\n",
    " 'estimated_store_to_consumer_driving_duration',\n",
    " 'store_id_int',\n",
    " 'store_primary_category_int']"
   ]
  },
  {
   "cell_type": "code",
   "execution_count": 4,
   "metadata": {},
   "outputs": [],
   "source": [
    "# Now on to actual predictions"
   ]
  },
  {
   "cell_type": "code",
   "execution_count": 5,
   "metadata": {},
   "outputs": [],
   "source": [
    "# Load data to predict\n",
    "predict_df = spark.read.json(JSON_DATA_TO_PREDICT)"
   ]
  },
  {
   "cell_type": "code",
   "execution_count": 6,
   "metadata": {},
   "outputs": [
    {
     "name": "stdout",
     "output_type": "stream",
     "text": [
      "root\n",
      " |-- created_at: string (nullable = true)\n",
      " |-- delivery_id: string (nullable = true)\n",
      " |-- estimated_order_place_duration: string (nullable = true)\n",
      " |-- estimated_store_to_consumer_driving_duration: string (nullable = true)\n",
      " |-- market_id: string (nullable = true)\n",
      " |-- max_item_price: string (nullable = true)\n",
      " |-- min_item_price: string (nullable = true)\n",
      " |-- num_distinct_items: string (nullable = true)\n",
      " |-- order_protocol: string (nullable = true)\n",
      " |-- platform: string (nullable = true)\n",
      " |-- store_id: string (nullable = true)\n",
      " |-- store_primary_category: string (nullable = true)\n",
      " |-- subtotal: string (nullable = true)\n",
      " |-- total_busy_runners: string (nullable = true)\n",
      " |-- total_items: string (nullable = true)\n",
      " |-- total_onshift_runners: string (nullable = true)\n",
      " |-- total_outstanding_orders: string (nullable = true)\n",
      "\n"
     ]
    }
   ],
   "source": [
    "predict_df.printSchema()"
   ]
  },
  {
   "cell_type": "code",
   "execution_count": null,
   "metadata": {},
   "outputs": [],
   "source": [
    "# Apply same process as historical data to convert/map"
   ]
  },
  {
   "cell_type": "code",
   "execution_count": 8,
   "metadata": {},
   "outputs": [],
   "source": [
    "# Drop rows with NA columns\n",
    "predict_df_1 = predict_df.dropna()"
   ]
  },
  {
   "cell_type": "code",
   "execution_count": 11,
   "metadata": {},
   "outputs": [],
   "source": [
    "predict_df_1 = predict_df_1[(predict_df_1.subtotal>0) & \n",
    "                            (predict_df_1.min_item_price>0) &\n",
    "                            (predict_df_1.max_item_price>0) &\n",
    "                            (predict_df_1.total_onshift_runners>0) &\n",
    "                            (predict_df_1.total_busy_runners>0) &\n",
    "                            (predict_df_1.total_outstanding_orders>0) &\n",
    "                            (predict_df_1.estimated_order_place_duration>0) &\n",
    "                            (predict_df_1.estimated_store_to_consumer_driving_duration>0) &\n",
    "                            (predict_df_1.market_id != \"NA\") & \n",
    "                            (predict_df_1.store_primary_category != \"NA\") &\n",
    "                            (predict_df_1.order_protocol != \"NA\")\n",
    "                           ]"
   ]
  },
  {
   "cell_type": "code",
   "execution_count": 13,
   "metadata": {},
   "outputs": [],
   "source": [
    "def rdd_datetimesec_to_sec(input_time):\n",
    "    return int(mktime(strptime(input_time, \"%Y-%m-%d %H:%M:%S\")))\n",
    "\n",
    "udf_rdd_datetimesec_to_sec = fn.udf(rdd_datetimesec_to_sec, IntegerType())  # LongType() not available for now"
   ]
  },
  {
   "cell_type": "code",
   "execution_count": 14,
   "metadata": {},
   "outputs": [],
   "source": [
    "predict_df_1 = predict_df_1.withColumn('created_at',\n",
    "                                        udf_rdd_datetimesec_to_sec(fn.col('created_at')))\n"
   ]
  },
  {
   "cell_type": "code",
   "execution_count": 16,
   "metadata": {},
   "outputs": [],
   "source": [
    "# Map store_id string to unique number\n",
    "stringindexer = StringIndexer().setInputCol(\"store_id\").setOutputCol(\"store_id_int\")\n",
    "modelc = stringindexer.fit(predict_df_1)\n",
    "predict_df_1 = modelc.transform(predict_df_1)"
   ]
  },
  {
   "cell_type": "code",
   "execution_count": 17,
   "metadata": {},
   "outputs": [],
   "source": [
    "# Map store_primary_category to unique number\n",
    "stringindexer = StringIndexer().setInputCol(\"store_primary_category\").setOutputCol(\"store_primary_category_int\")\n",
    "modelc = stringindexer.fit(predict_df_1)\n",
    "predict_df_1 = modelc.transform(predict_df_1)"
   ]
  },
  {
   "cell_type": "code",
   "execution_count": 18,
   "metadata": {
    "scrolled": false
   },
   "outputs": [],
   "source": [
    "predict_df_1 = predict_df_1.withColumn(\"market_id\", predict_df_1[\"market_id\"].cast(IntegerType()))\n",
    "predict_df_1 = predict_df_1.withColumn(\"order_protocol\", predict_df_1[\"order_protocol\"].cast(IntegerType()))\n",
    "\n",
    "predict_df_1 = predict_df_1.withColumn(\"total_onshift_runners\", predict_df_1[\"total_onshift_runners\"].cast(IntegerType()))\n",
    "predict_df_1 = predict_df_1.withColumn(\"total_busy_runners\", predict_df_1[\"total_busy_runners\"].cast(IntegerType()))\n",
    "\n",
    "predict_df_1 = predict_df_1.withColumn(\"total_outstanding_orders\", predict_df_1[\"total_outstanding_orders\"].cast(IntegerType()))\n",
    "predict_df_1 = predict_df_1.withColumn(\"estimated_store_to_consumer_driving_duration\", predict_df_1[\"estimated_store_to_consumer_driving_duration\"].cast(IntegerType()))\n"
   ]
  },
  {
   "cell_type": "code",
   "execution_count": 22,
   "metadata": {},
   "outputs": [],
   "source": [
    "predict_df_1 = predict_df_1.withColumn(\"subtotal\", predict_df_1[\"subtotal\"].cast(IntegerType()))\n",
    "predict_df_1 = predict_df_1.withColumn(\"num_distinct_items\", predict_df_1[\"num_distinct_items\"].cast(IntegerType()))\n",
    "predict_df_1 = predict_df_1.withColumn(\"estimated_order_place_duration\", predict_df_1[\"estimated_order_place_duration\"].cast(IntegerType()))\n",
    "predict_df_1 = predict_df_1.withColumn(\"total_items\", predict_df_1[\"total_items\"].cast(IntegerType()))"
   ]
  },
  {
   "cell_type": "code",
   "execution_count": 25,
   "metadata": {},
   "outputs": [],
   "source": [
    "# Use same features as in historical data\n",
    "# Other columns in test data ('store_id', 'store_primary_category', 'min_item_price', 'max_item_price') \n",
    "# will be dropped by VectorAssembler transformation\n",
    "\n",
    "pvectorAssembler = VectorAssembler(inputCols = feature_list, outputCol = 'features')\n",
    "vectorized_predict_df = pvectorAssembler.transform(predict_df_1)\n",
    "vectorized_predict_df = vectorized_predict_df.select(['features'])"
   ]
  },
  {
   "cell_type": "code",
   "execution_count": 27,
   "metadata": {},
   "outputs": [],
   "source": [
    "predict_model = RandomForestRegressionModel.load(\"./dd_rf_model\")"
   ]
  },
  {
   "cell_type": "code",
   "execution_count": 29,
   "metadata": {},
   "outputs": [],
   "source": [
    "model_predictions = predict_model.transform(vectorized_predict_df)"
   ]
  },
  {
   "cell_type": "code",
   "execution_count": 36,
   "metadata": {},
   "outputs": [
    {
     "name": "stdout",
     "output_type": "stream",
     "text": [
      "+--------------------------------+--------------------------+\n",
      "|delivery_id                     |predicted_delivery_seconds|\n",
      "+--------------------------------+--------------------------+\n",
      "|3b04e68c88349a776013fcae3bc5aea6|3465.0249460172577        |\n",
      "|cffcd18445407b8027ed4484ff46726c|3357.190960044998         |\n",
      "|9d65036171bc0463ebb48bf125ac5cbf|3649.212464795469         |\n",
      "|bebd60f139989879bd86c6047babce83|4903.903967341965         |\n",
      "|89bca4b8fbabcbfd0cbf07fb7c6271cc|4933.500536249489         |\n",
      "|4061b453014cf028b2213145a460753c|4820.148417630822         |\n",
      "|d71ac2be630dbd0d88ef0a9e3a559329|4820.148417630822         |\n",
      "|4af2232da5619ef3fd923ff8346ee804|3020.21441861829          |\n",
      "|27fb5c0a87e11d6a7ba573109cfe743f|3227.306399728086         |\n",
      "|0a5116feb4f6b2be8356b78022adfc9e|3680.485142012863         |\n",
      "|b9978bc9d8d3383f7c0287eeeaa66838|3607.851322448472         |\n",
      "|ad825b60391a15fc86e44af29ffc1a4a|3195.142697285199         |\n",
      "|777e747d8029109c521c793884d3e300|3108.0000648227983        |\n",
      "|1f633306521571063183b642aa2f42e2|3108.0000648227983        |\n",
      "|766a5053b52da822ac41d255235219ec|3075.9318107029967        |\n",
      "|99333984ed3b0b4cb40921967b17e55c|3108.0000648227983        |\n",
      "|e97b08538d56e55661a82c9e272d52b5|3153.0821312938883        |\n",
      "|5c2481a9d62cdaab6b540f88bf0579b6|6269.553323307969         |\n",
      "|3a0dfaef43fa4a1109abf9bff07f866d|2861.760659733364         |\n",
      "|783078cef92c6b9c14fd20b336ec0df8|3394.608432299832         |\n",
      "+--------------------------------+--------------------------+\n",
      "only showing top 20 rows\n",
      "\n"
     ]
    }
   ],
   "source": [
    "df1 = predict_df_1.select('delivery_id').withColumn(\"id\", monotonically_increasing_id())\n",
    "df2 = model_predictions.select('prediction').withColumnRenamed('prediction', 'predicted_delivery_seconds').withColumn(\"id\", monotonically_increasing_id())\n",
    "\n",
    "# Perform a join on the ids.\n",
    "prediction_results_df = df1.join(df2, \"id\", \"left\").drop(\"id\")"
   ]
  },
  {
   "cell_type": "code",
   "execution_count": 38,
   "metadata": {},
   "outputs": [],
   "source": [
    "prediction_results_df.repartition(1).write.format('csv').options(header=True, delimiter='\\t').save('./prediction_results_1')"
   ]
  }
 ],
 "metadata": {
  "kernelspec": {
   "display_name": "Python 3",
   "language": "python",
   "name": "python3"
  },
  "language_info": {
   "codemirror_mode": {
    "name": "ipython",
    "version": 3
   },
   "file_extension": ".py",
   "mimetype": "text/x-python",
   "name": "python",
   "nbconvert_exporter": "python",
   "pygments_lexer": "ipython3",
   "version": "3.6.4"
  }
 },
 "nbformat": 4,
 "nbformat_minor": 2
}
